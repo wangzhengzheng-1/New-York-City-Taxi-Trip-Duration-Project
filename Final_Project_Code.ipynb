{
  "nbformat": 4,
  "nbformat_minor": 0,
  "metadata": {
    "kernelspec": {
      "display_name": "Python 3",
      "language": "python",
      "name": "python3"
    },
    "language_info": {
      "codemirror_mode": {
        "name": "ipython",
        "version": 3
      },
      "file_extension": ".py",
      "mimetype": "text/x-python",
      "name": "python",
      "nbconvert_exporter": "python",
      "pygments_lexer": "ipython3",
      "version": "3.8.3"
    },
    "colab": {
      "name": "INF2179 Final Project Code.ipynb",
      "provenance": []
    }
  },
  "cells": [
    {
      "cell_type": "code",
      "metadata": {
        "id": "Vu8OfUwHJQAo"
      },
      "source": [
        "import numpy as np\n",
        "import math\n",
        "import pandas as pd\n",
        "import matplotlib.pyplot as plt\n",
        "import seaborn as sns\n",
        "\n",
        "from sklearn.model_selection import train_test_split\n",
        "from sklearn.ensemble import RandomForestRegressor\n",
        "from sklearn.tree import DecisionTreeClassifier\n",
        "from sklearn import linear_model \n",
        "\n",
        "from sklearn.metrics import mean_squared_error\n",
        "from sklearn.metrics import r2_score\n",
        "from sklearn.model_selection import KFold\n",
        "from sklearn.model_selection import GridSearchCV\n",
        "from sklearn.model_selection import RepeatedKFold\n",
        "\n",
        "from sklearn.preprocessing import StandardScaler\n",
        "\n",
        "import datetime\n"
      ],
      "execution_count": 1,
      "outputs": []
    },
    {
      "cell_type": "code",
      "metadata": {
        "colab": {
          "base_uri": "https://localhost:8080/",
          "height": 309
        },
        "id": "YwmgckJCJQAv",
        "outputId": "7a26eb34-f834-4484-de35-ef697c5c8fdd"
      },
      "source": [
        "df = pd.read_csv('train.csv')\n",
        "df.head()"
      ],
      "execution_count": 50,
      "outputs": [
        {
          "output_type": "execute_result",
          "data": {
            "text/html": [
              "<div>\n",
              "<style scoped>\n",
              "    .dataframe tbody tr th:only-of-type {\n",
              "        vertical-align: middle;\n",
              "    }\n",
              "\n",
              "    .dataframe tbody tr th {\n",
              "        vertical-align: top;\n",
              "    }\n",
              "\n",
              "    .dataframe thead th {\n",
              "        text-align: right;\n",
              "    }\n",
              "</style>\n",
              "<table border=\"1\" class=\"dataframe\">\n",
              "  <thead>\n",
              "    <tr style=\"text-align: right;\">\n",
              "      <th></th>\n",
              "      <th>id</th>\n",
              "      <th>vendor_id</th>\n",
              "      <th>pickup_datetime</th>\n",
              "      <th>dropoff_datetime</th>\n",
              "      <th>passenger_count</th>\n",
              "      <th>pickup_longitude</th>\n",
              "      <th>pickup_latitude</th>\n",
              "      <th>dropoff_longitude</th>\n",
              "      <th>dropoff_latitude</th>\n",
              "      <th>store_and_fwd_flag</th>\n",
              "      <th>trip_duration</th>\n",
              "    </tr>\n",
              "  </thead>\n",
              "  <tbody>\n",
              "    <tr>\n",
              "      <th>0</th>\n",
              "      <td>id2875421</td>\n",
              "      <td>2</td>\n",
              "      <td>2016-03-14 17:24:55</td>\n",
              "      <td>2016-03-14 17:32:30</td>\n",
              "      <td>1</td>\n",
              "      <td>-73.982155</td>\n",
              "      <td>40.767937</td>\n",
              "      <td>-73.964630</td>\n",
              "      <td>40.765602</td>\n",
              "      <td>N</td>\n",
              "      <td>455</td>\n",
              "    </tr>\n",
              "    <tr>\n",
              "      <th>1</th>\n",
              "      <td>id2377394</td>\n",
              "      <td>1</td>\n",
              "      <td>2016-06-12 00:43:35</td>\n",
              "      <td>2016-06-12 00:54:38</td>\n",
              "      <td>1</td>\n",
              "      <td>-73.980415</td>\n",
              "      <td>40.738564</td>\n",
              "      <td>-73.999481</td>\n",
              "      <td>40.731152</td>\n",
              "      <td>N</td>\n",
              "      <td>663</td>\n",
              "    </tr>\n",
              "    <tr>\n",
              "      <th>2</th>\n",
              "      <td>id3858529</td>\n",
              "      <td>2</td>\n",
              "      <td>2016-01-19 11:35:24</td>\n",
              "      <td>2016-01-19 12:10:48</td>\n",
              "      <td>1</td>\n",
              "      <td>-73.979027</td>\n",
              "      <td>40.763939</td>\n",
              "      <td>-74.005333</td>\n",
              "      <td>40.710087</td>\n",
              "      <td>N</td>\n",
              "      <td>2124</td>\n",
              "    </tr>\n",
              "    <tr>\n",
              "      <th>3</th>\n",
              "      <td>id3504673</td>\n",
              "      <td>2</td>\n",
              "      <td>2016-04-06 19:32:31</td>\n",
              "      <td>2016-04-06 19:39:40</td>\n",
              "      <td>1</td>\n",
              "      <td>-74.010040</td>\n",
              "      <td>40.719971</td>\n",
              "      <td>-74.012268</td>\n",
              "      <td>40.706718</td>\n",
              "      <td>N</td>\n",
              "      <td>429</td>\n",
              "    </tr>\n",
              "    <tr>\n",
              "      <th>4</th>\n",
              "      <td>id2181028</td>\n",
              "      <td>2</td>\n",
              "      <td>2016-03-26 13:30:55</td>\n",
              "      <td>2016-03-26 13:38:10</td>\n",
              "      <td>1</td>\n",
              "      <td>-73.973053</td>\n",
              "      <td>40.793209</td>\n",
              "      <td>-73.972923</td>\n",
              "      <td>40.782520</td>\n",
              "      <td>N</td>\n",
              "      <td>435</td>\n",
              "    </tr>\n",
              "  </tbody>\n",
              "</table>\n",
              "</div>"
            ],
            "text/plain": [
              "          id  vendor_id  ... store_and_fwd_flag trip_duration\n",
              "0  id2875421          2  ...                  N           455\n",
              "1  id2377394          1  ...                  N           663\n",
              "2  id3858529          2  ...                  N          2124\n",
              "3  id3504673          2  ...                  N           429\n",
              "4  id2181028          2  ...                  N           435\n",
              "\n",
              "[5 rows x 11 columns]"
            ]
          },
          "metadata": {
            "tags": []
          },
          "execution_count": 50
        }
      ]
    },
    {
      "cell_type": "code",
      "metadata": {
        "id": "0SpiFhAmJQAx",
        "outputId": "e108301d-f72b-423f-d31d-b5127362041b"
      },
      "source": [
        "df.info()"
      ],
      "execution_count": null,
      "outputs": [
        {
          "output_type": "stream",
          "text": [
            "<class 'pandas.core.frame.DataFrame'>\n",
            "RangeIndex: 1458644 entries, 0 to 1458643\n",
            "Data columns (total 11 columns):\n",
            " #   Column              Non-Null Count    Dtype  \n",
            "---  ------              --------------    -----  \n",
            " 0   id                  1458644 non-null  object \n",
            " 1   vendor_id           1458644 non-null  int64  \n",
            " 2   pickup_datetime     1458644 non-null  object \n",
            " 3   dropoff_datetime    1458644 non-null  object \n",
            " 4   passenger_count     1458644 non-null  int64  \n",
            " 5   pickup_longitude    1458644 non-null  float64\n",
            " 6   pickup_latitude     1458644 non-null  float64\n",
            " 7   dropoff_longitude   1458644 non-null  float64\n",
            " 8   dropoff_latitude    1458644 non-null  float64\n",
            " 9   store_and_fwd_flag  1458644 non-null  object \n",
            " 10  trip_duration       1458644 non-null  int64  \n",
            "dtypes: float64(4), int64(3), object(4)\n",
            "memory usage: 122.4+ MB\n"
          ],
          "name": "stdout"
        }
      ]
    },
    {
      "cell_type": "code",
      "metadata": {
        "id": "mZwvfkwZJQAy",
        "outputId": "a11c40ec-8d00-4cfe-fc6e-687beb9a6aa3"
      },
      "source": [
        "df.describe()"
      ],
      "execution_count": null,
      "outputs": [
        {
          "output_type": "execute_result",
          "data": {
            "text/html": [
              "<div>\n",
              "<style scoped>\n",
              "    .dataframe tbody tr th:only-of-type {\n",
              "        vertical-align: middle;\n",
              "    }\n",
              "\n",
              "    .dataframe tbody tr th {\n",
              "        vertical-align: top;\n",
              "    }\n",
              "\n",
              "    .dataframe thead th {\n",
              "        text-align: right;\n",
              "    }\n",
              "</style>\n",
              "<table border=\"1\" class=\"dataframe\">\n",
              "  <thead>\n",
              "    <tr style=\"text-align: right;\">\n",
              "      <th></th>\n",
              "      <th>vendor_id</th>\n",
              "      <th>passenger_count</th>\n",
              "      <th>pickup_longitude</th>\n",
              "      <th>pickup_latitude</th>\n",
              "      <th>dropoff_longitude</th>\n",
              "      <th>dropoff_latitude</th>\n",
              "      <th>trip_duration</th>\n",
              "    </tr>\n",
              "  </thead>\n",
              "  <tbody>\n",
              "    <tr>\n",
              "      <th>count</th>\n",
              "      <td>1.458644e+06</td>\n",
              "      <td>1.458644e+06</td>\n",
              "      <td>1.458644e+06</td>\n",
              "      <td>1.458644e+06</td>\n",
              "      <td>1.458644e+06</td>\n",
              "      <td>1.458644e+06</td>\n",
              "      <td>1.458644e+06</td>\n",
              "    </tr>\n",
              "    <tr>\n",
              "      <th>mean</th>\n",
              "      <td>1.534950e+00</td>\n",
              "      <td>1.664530e+00</td>\n",
              "      <td>-7.397349e+01</td>\n",
              "      <td>4.075092e+01</td>\n",
              "      <td>-7.397342e+01</td>\n",
              "      <td>4.075180e+01</td>\n",
              "      <td>9.594923e+02</td>\n",
              "    </tr>\n",
              "    <tr>\n",
              "      <th>std</th>\n",
              "      <td>4.987772e-01</td>\n",
              "      <td>1.314242e+00</td>\n",
              "      <td>7.090186e-02</td>\n",
              "      <td>3.288119e-02</td>\n",
              "      <td>7.064327e-02</td>\n",
              "      <td>3.589056e-02</td>\n",
              "      <td>5.237432e+03</td>\n",
              "    </tr>\n",
              "    <tr>\n",
              "      <th>min</th>\n",
              "      <td>1.000000e+00</td>\n",
              "      <td>0.000000e+00</td>\n",
              "      <td>-1.219333e+02</td>\n",
              "      <td>3.435970e+01</td>\n",
              "      <td>-1.219333e+02</td>\n",
              "      <td>3.218114e+01</td>\n",
              "      <td>1.000000e+00</td>\n",
              "    </tr>\n",
              "    <tr>\n",
              "      <th>25%</th>\n",
              "      <td>1.000000e+00</td>\n",
              "      <td>1.000000e+00</td>\n",
              "      <td>-7.399187e+01</td>\n",
              "      <td>4.073735e+01</td>\n",
              "      <td>-7.399133e+01</td>\n",
              "      <td>4.073588e+01</td>\n",
              "      <td>3.970000e+02</td>\n",
              "    </tr>\n",
              "    <tr>\n",
              "      <th>50%</th>\n",
              "      <td>2.000000e+00</td>\n",
              "      <td>1.000000e+00</td>\n",
              "      <td>-7.398174e+01</td>\n",
              "      <td>4.075410e+01</td>\n",
              "      <td>-7.397975e+01</td>\n",
              "      <td>4.075452e+01</td>\n",
              "      <td>6.620000e+02</td>\n",
              "    </tr>\n",
              "    <tr>\n",
              "      <th>75%</th>\n",
              "      <td>2.000000e+00</td>\n",
              "      <td>2.000000e+00</td>\n",
              "      <td>-7.396733e+01</td>\n",
              "      <td>4.076836e+01</td>\n",
              "      <td>-7.396301e+01</td>\n",
              "      <td>4.076981e+01</td>\n",
              "      <td>1.075000e+03</td>\n",
              "    </tr>\n",
              "    <tr>\n",
              "      <th>max</th>\n",
              "      <td>2.000000e+00</td>\n",
              "      <td>9.000000e+00</td>\n",
              "      <td>-6.133553e+01</td>\n",
              "      <td>5.188108e+01</td>\n",
              "      <td>-6.133553e+01</td>\n",
              "      <td>4.392103e+01</td>\n",
              "      <td>3.526282e+06</td>\n",
              "    </tr>\n",
              "  </tbody>\n",
              "</table>\n",
              "</div>"
            ],
            "text/plain": [
              "          vendor_id  passenger_count  pickup_longitude  pickup_latitude  \\\n",
              "count  1.458644e+06     1.458644e+06      1.458644e+06     1.458644e+06   \n",
              "mean   1.534950e+00     1.664530e+00     -7.397349e+01     4.075092e+01   \n",
              "std    4.987772e-01     1.314242e+00      7.090186e-02     3.288119e-02   \n",
              "min    1.000000e+00     0.000000e+00     -1.219333e+02     3.435970e+01   \n",
              "25%    1.000000e+00     1.000000e+00     -7.399187e+01     4.073735e+01   \n",
              "50%    2.000000e+00     1.000000e+00     -7.398174e+01     4.075410e+01   \n",
              "75%    2.000000e+00     2.000000e+00     -7.396733e+01     4.076836e+01   \n",
              "max    2.000000e+00     9.000000e+00     -6.133553e+01     5.188108e+01   \n",
              "\n",
              "       dropoff_longitude  dropoff_latitude  trip_duration  \n",
              "count       1.458644e+06      1.458644e+06   1.458644e+06  \n",
              "mean       -7.397342e+01      4.075180e+01   9.594923e+02  \n",
              "std         7.064327e-02      3.589056e-02   5.237432e+03  \n",
              "min        -1.219333e+02      3.218114e+01   1.000000e+00  \n",
              "25%        -7.399133e+01      4.073588e+01   3.970000e+02  \n",
              "50%        -7.397975e+01      4.075452e+01   6.620000e+02  \n",
              "75%        -7.396301e+01      4.076981e+01   1.075000e+03  \n",
              "max        -6.133553e+01      4.392103e+01   3.526282e+06  "
            ]
          },
          "metadata": {
            "tags": []
          },
          "execution_count": 4
        }
      ]
    },
    {
      "cell_type": "code",
      "metadata": {
        "id": "SePbSZLkJQAz",
        "outputId": "1c24d47c-6831-436d-9c78-6bae79486eba"
      },
      "source": [
        "df['vendor_id'].value_counts()"
      ],
      "execution_count": null,
      "outputs": [
        {
          "output_type": "execute_result",
          "data": {
            "text/plain": [
              "2    780302\n",
              "1    678342\n",
              "Name: vendor_id, dtype: int64"
            ]
          },
          "metadata": {
            "tags": []
          },
          "execution_count": 5
        }
      ]
    },
    {
      "cell_type": "code",
      "metadata": {
        "id": "bPGEffrvJQA1"
      },
      "source": [
        "# convert pickup and dropoff datetime to datetime format\n",
        "df['pickup_datetime'] = pd.to_datetime(df.pickup_datetime)\n",
        "df['dropoff_datetime'] = pd.to_datetime(df.dropoff_datetime)\n",
        "\n",
        "# create pickup date and day of week\n",
        "df['pickup_date'] = df['pickup_datetime'].dt.date\n",
        "\n",
        "day_map = {0:'Monday',1:'Tuesday',2:'Wednesday',3:'Thursday',4:'Friday',5:'Saturday',6:'Sunday'}\n",
        "df['day_of_week'] = df['pickup_datetime'].dt.dayofweek.map(day_map)\n",
        "df['day_of_hour'] = df['pickup_datetime'].dt.hour\n",
        "df['trip_duration_minute']=df['trip_duration']/60"
      ],
      "execution_count": 51,
      "outputs": []
    },
    {
      "cell_type": "code",
      "metadata": {
        "colab": {
          "base_uri": "https://localhost:8080/"
        },
        "id": "1MUOTXfFJQA2",
        "outputId": "c98e6b3e-652f-4a2d-c92b-1e42cc07c738"
      },
      "source": [
        "df['day_of_week'].value_counts()"
      ],
      "execution_count": 5,
      "outputs": [
        {
          "output_type": "execute_result",
          "data": {
            "text/plain": [
              "Friday       223533\n",
              "Saturday     220868\n",
              "Thursday     218574\n",
              "Wednesday    210136\n",
              "Tuesday      202749\n",
              "Sunday       195366\n",
              "Monday       187418\n",
              "Name: day_of_week, dtype: int64"
            ]
          },
          "metadata": {
            "tags": []
          },
          "execution_count": 5
        }
      ]
    },
    {
      "cell_type": "code",
      "metadata": {
        "colab": {
          "base_uri": "https://localhost:8080/"
        },
        "id": "vOSEqdurJQA3",
        "outputId": "c0bedd2d-deb2-4a64-d9cc-ba471486c075"
      },
      "source": [
        "df['day_of_hour'].value_counts()"
      ],
      "execution_count": 6,
      "outputs": [
        {
          "output_type": "execute_result",
          "data": {
            "text/plain": [
              "18    90600\n",
              "19    90308\n",
              "21    84185\n",
              "20    84072\n",
              "22    80492\n",
              "17    76483\n",
              "14    74292\n",
              "12    71873\n",
              "15    71811\n",
              "13    71473\n",
              "23    69785\n",
              "11    68476\n",
              "9     67663\n",
              "8     67053\n",
              "10    65437\n",
              "16    64313\n",
              "7     55600\n",
              "0     53248\n",
              "1     38571\n",
              "6     33248\n",
              "2     27972\n",
              "3     20895\n",
              "4     15792\n",
              "5     15002\n",
              "Name: day_of_hour, dtype: int64"
            ]
          },
          "metadata": {
            "tags": []
          },
          "execution_count": 6
        }
      ]
    },
    {
      "cell_type": "code",
      "metadata": {
        "id": "fIczVm9lJQA5",
        "outputId": "ec22440a-143f-4a57-b4b5-7aa23309fc72"
      },
      "source": [
        "df.head()"
      ],
      "execution_count": null,
      "outputs": [
        {
          "output_type": "execute_result",
          "data": {
            "text/html": [
              "<div>\n",
              "<style scoped>\n",
              "    .dataframe tbody tr th:only-of-type {\n",
              "        vertical-align: middle;\n",
              "    }\n",
              "\n",
              "    .dataframe tbody tr th {\n",
              "        vertical-align: top;\n",
              "    }\n",
              "\n",
              "    .dataframe thead th {\n",
              "        text-align: right;\n",
              "    }\n",
              "</style>\n",
              "<table border=\"1\" class=\"dataframe\">\n",
              "  <thead>\n",
              "    <tr style=\"text-align: right;\">\n",
              "      <th></th>\n",
              "      <th>id</th>\n",
              "      <th>vendor_id</th>\n",
              "      <th>pickup_datetime</th>\n",
              "      <th>dropoff_datetime</th>\n",
              "      <th>passenger_count</th>\n",
              "      <th>pickup_longitude</th>\n",
              "      <th>pickup_latitude</th>\n",
              "      <th>dropoff_longitude</th>\n",
              "      <th>dropoff_latitude</th>\n",
              "      <th>store_and_fwd_flag</th>\n",
              "      <th>trip_duration</th>\n",
              "      <th>pickup_date</th>\n",
              "      <th>day_of_week</th>\n",
              "      <th>day_of_hour</th>\n",
              "      <th>trip_duration_minute</th>\n",
              "    </tr>\n",
              "  </thead>\n",
              "  <tbody>\n",
              "    <tr>\n",
              "      <th>0</th>\n",
              "      <td>id2875421</td>\n",
              "      <td>2</td>\n",
              "      <td>2016-03-14 17:24:55</td>\n",
              "      <td>2016-03-14 17:32:30</td>\n",
              "      <td>1</td>\n",
              "      <td>-73.982155</td>\n",
              "      <td>40.767937</td>\n",
              "      <td>-73.964630</td>\n",
              "      <td>40.765602</td>\n",
              "      <td>N</td>\n",
              "      <td>455</td>\n",
              "      <td>2016-03-14</td>\n",
              "      <td>Monday</td>\n",
              "      <td>17</td>\n",
              "      <td>7.583333</td>\n",
              "    </tr>\n",
              "    <tr>\n",
              "      <th>1</th>\n",
              "      <td>id2377394</td>\n",
              "      <td>1</td>\n",
              "      <td>2016-06-12 00:43:35</td>\n",
              "      <td>2016-06-12 00:54:38</td>\n",
              "      <td>1</td>\n",
              "      <td>-73.980415</td>\n",
              "      <td>40.738564</td>\n",
              "      <td>-73.999481</td>\n",
              "      <td>40.731152</td>\n",
              "      <td>N</td>\n",
              "      <td>663</td>\n",
              "      <td>2016-06-12</td>\n",
              "      <td>Sunday</td>\n",
              "      <td>0</td>\n",
              "      <td>11.050000</td>\n",
              "    </tr>\n",
              "    <tr>\n",
              "      <th>2</th>\n",
              "      <td>id3858529</td>\n",
              "      <td>2</td>\n",
              "      <td>2016-01-19 11:35:24</td>\n",
              "      <td>2016-01-19 12:10:48</td>\n",
              "      <td>1</td>\n",
              "      <td>-73.979027</td>\n",
              "      <td>40.763939</td>\n",
              "      <td>-74.005333</td>\n",
              "      <td>40.710087</td>\n",
              "      <td>N</td>\n",
              "      <td>2124</td>\n",
              "      <td>2016-01-19</td>\n",
              "      <td>Tuesday</td>\n",
              "      <td>11</td>\n",
              "      <td>35.400000</td>\n",
              "    </tr>\n",
              "    <tr>\n",
              "      <th>3</th>\n",
              "      <td>id3504673</td>\n",
              "      <td>2</td>\n",
              "      <td>2016-04-06 19:32:31</td>\n",
              "      <td>2016-04-06 19:39:40</td>\n",
              "      <td>1</td>\n",
              "      <td>-74.010040</td>\n",
              "      <td>40.719971</td>\n",
              "      <td>-74.012268</td>\n",
              "      <td>40.706718</td>\n",
              "      <td>N</td>\n",
              "      <td>429</td>\n",
              "      <td>2016-04-06</td>\n",
              "      <td>Wednesday</td>\n",
              "      <td>19</td>\n",
              "      <td>7.150000</td>\n",
              "    </tr>\n",
              "    <tr>\n",
              "      <th>4</th>\n",
              "      <td>id2181028</td>\n",
              "      <td>2</td>\n",
              "      <td>2016-03-26 13:30:55</td>\n",
              "      <td>2016-03-26 13:38:10</td>\n",
              "      <td>1</td>\n",
              "      <td>-73.973053</td>\n",
              "      <td>40.793209</td>\n",
              "      <td>-73.972923</td>\n",
              "      <td>40.782520</td>\n",
              "      <td>N</td>\n",
              "      <td>435</td>\n",
              "      <td>2016-03-26</td>\n",
              "      <td>Saturday</td>\n",
              "      <td>13</td>\n",
              "      <td>7.250000</td>\n",
              "    </tr>\n",
              "  </tbody>\n",
              "</table>\n",
              "</div>"
            ],
            "text/plain": [
              "          id  vendor_id     pickup_datetime    dropoff_datetime  \\\n",
              "0  id2875421          2 2016-03-14 17:24:55 2016-03-14 17:32:30   \n",
              "1  id2377394          1 2016-06-12 00:43:35 2016-06-12 00:54:38   \n",
              "2  id3858529          2 2016-01-19 11:35:24 2016-01-19 12:10:48   \n",
              "3  id3504673          2 2016-04-06 19:32:31 2016-04-06 19:39:40   \n",
              "4  id2181028          2 2016-03-26 13:30:55 2016-03-26 13:38:10   \n",
              "\n",
              "   passenger_count  pickup_longitude  pickup_latitude  dropoff_longitude  \\\n",
              "0                1        -73.982155        40.767937         -73.964630   \n",
              "1                1        -73.980415        40.738564         -73.999481   \n",
              "2                1        -73.979027        40.763939         -74.005333   \n",
              "3                1        -74.010040        40.719971         -74.012268   \n",
              "4                1        -73.973053        40.793209         -73.972923   \n",
              "\n",
              "   dropoff_latitude store_and_fwd_flag  trip_duration pickup_date day_of_week  \\\n",
              "0         40.765602                  N            455  2016-03-14      Monday   \n",
              "1         40.731152                  N            663  2016-06-12      Sunday   \n",
              "2         40.710087                  N           2124  2016-01-19     Tuesday   \n",
              "3         40.706718                  N            429  2016-04-06   Wednesday   \n",
              "4         40.782520                  N            435  2016-03-26    Saturday   \n",
              "\n",
              "   day_of_hour  trip_duration_minute  \n",
              "0           17              7.583333  \n",
              "1            0             11.050000  \n",
              "2           11             35.400000  \n",
              "3           19              7.150000  \n",
              "4           13              7.250000  "
            ]
          },
          "metadata": {
            "tags": []
          },
          "execution_count": 9
        }
      ]
    },
    {
      "cell_type": "markdown",
      "metadata": {
        "id": "Hm2wJymOJQA7"
      },
      "source": [
        "### 1. Distribution of Trip Duration"
      ]
    },
    {
      "cell_type": "code",
      "metadata": {
        "id": "l39WVl6rJQA8",
        "outputId": "5dde4dfb-f3b0-49f8-a5af-488a37817efa"
      },
      "source": [
        "plt.figure(figsize=(10,6))\n",
        "sns.distplot(np.log(df['trip_duration'].values+1), \\\n",
        "            label='log(trip_duration)', bins=50, color='r')\n",
        "plt.xlabel('Log(trip duration) in Minutes',fontsize=14)\n",
        "plt.ylabel('Density',fontsize=14)\n",
        "plt.title('Distribution of Trip Duration', fontsize=16)\n",
        "plt.show()"
      ],
      "execution_count": null,
      "outputs": [
        {
          "output_type": "display_data",
          "data": {
            "image/png": "[encoded data removed]",
            "text/plain": [
              "<Figure size 720x432 with 1 Axes>"
            ]
          },
          "metadata": {
            "tags": [],
            "needs_background": "light"
          }
        }
      ]
    },
    {
      "cell_type": "markdown",
      "metadata": {
        "id": "Q4MsvR4SJQA-"
      },
      "source": [
        "### 2. Map of trip coordinates"
      ]
    },
    {
      "cell_type": "code",
      "metadata": {
        "id": "T_JyT0dkJQA_",
        "outputId": "585f96ad-5d99-4961-d779-9f1e64232f42"
      },
      "source": [
        "city_long_border = (-74.03, -73.75)\n",
        "city_lat_border = (40.63, 40.85)\n",
        "\n",
        "plt.figure(figsize=(10,6))\n",
        "plt.scatter(df['pickup_longitude'].values[:100000], df['pickup_latitude'].values[:100000],\n",
        "              color='blue', s=1, label='df', alpha=0.1)\n",
        "\n",
        "plt.ylabel('latitude')\n",
        "plt.xlabel('longitude')\n",
        "\n",
        "plt.ylim(city_lat_border)\n",
        "plt.xlim(city_long_border)\n",
        "plt.show()\n"
      ],
      "execution_count": null,
      "outputs": [
        {
          "output_type": "display_data",
          "data": {
            "image/png": "[encoded data removed]",
            "text/plain": [
              "<Figure size 720x432 with 1 Axes>"
            ]
          },
          "metadata": {
            "tags": [],
            "needs_background": "light"
          }
        }
      ]
    },
    {
      "cell_type": "markdown",
      "metadata": {
        "id": "DVOMWMO6JQBA"
      },
      "source": [
        "### 3. Average Trip Duration by Vendor in Day of a Week"
      ]
    },
    {
      "cell_type": "code",
      "metadata": {
        "id": "4Drb3uUUJQBB"
      },
      "source": [
        "wdays_avg_duration = pd.DataFrame(df.groupby(['day_of_week','vendor_id'])['trip_duration_minute'].mean())\n",
        "wdays_avg_duration.reset_index(inplace=True)"
      ],
      "execution_count": null,
      "outputs": []
    },
    {
      "cell_type": "code",
      "metadata": {
        "id": "tBSCb80nJQBC",
        "outputId": "99bd2521-ac31-4877-dc09-5e8caae18762"
      },
      "source": [
        "wdays_avg_duration['day_of_week']=pd.Categorical(wdays_avg_duration['day_of_week'],\\\n",
        "                                                 categories=['Monday','Tuesday','Wednesday','Thursday','Friday','Saturday','Sunday'])\n",
        "wdays_avg_duration= wdays_avg_duration.sort_values(by=['day_of_week'])\n",
        "wdays_avg_duration.head()"
      ],
      "execution_count": null,
      "outputs": [
        {
          "output_type": "execute_result",
          "data": {
            "text/html": [
              "<div>\n",
              "<style scoped>\n",
              "    .dataframe tbody tr th:only-of-type {\n",
              "        vertical-align: middle;\n",
              "    }\n",
              "\n",
              "    .dataframe tbody tr th {\n",
              "        vertical-align: top;\n",
              "    }\n",
              "\n",
              "    .dataframe thead th {\n",
              "        text-align: right;\n",
              "    }\n",
              "</style>\n",
              "<table border=\"1\" class=\"dataframe\">\n",
              "  <thead>\n",
              "    <tr style=\"text-align: right;\">\n",
              "      <th></th>\n",
              "      <th>day_of_week</th>\n",
              "      <th>vendor_id</th>\n",
              "      <th>trip_duration_minute</th>\n",
              "    </tr>\n",
              "  </thead>\n",
              "  <tbody>\n",
              "    <tr>\n",
              "      <th>2</th>\n",
              "      <td>Monday</td>\n",
              "      <td>1</td>\n",
              "      <td>13.367595</td>\n",
              "    </tr>\n",
              "    <tr>\n",
              "      <th>3</th>\n",
              "      <td>Monday</td>\n",
              "      <td>2</td>\n",
              "      <td>16.358846</td>\n",
              "    </tr>\n",
              "    <tr>\n",
              "      <th>10</th>\n",
              "      <td>Tuesday</td>\n",
              "      <td>1</td>\n",
              "      <td>14.848003</td>\n",
              "    </tr>\n",
              "    <tr>\n",
              "      <th>11</th>\n",
              "      <td>Tuesday</td>\n",
              "      <td>2</td>\n",
              "      <td>17.721049</td>\n",
              "    </tr>\n",
              "    <tr>\n",
              "      <th>12</th>\n",
              "      <td>Wednesday</td>\n",
              "      <td>1</td>\n",
              "      <td>14.578025</td>\n",
              "    </tr>\n",
              "  </tbody>\n",
              "</table>\n",
              "</div>"
            ],
            "text/plain": [
              "   day_of_week  vendor_id  trip_duration_minute\n",
              "2       Monday          1             13.367595\n",
              "3       Monday          2             16.358846\n",
              "10     Tuesday          1             14.848003\n",
              "11     Tuesday          2             17.721049\n",
              "12   Wednesday          1             14.578025"
            ]
          },
          "metadata": {
            "tags": []
          },
          "execution_count": 14
        }
      ]
    },
    {
      "cell_type": "code",
      "metadata": {
        "id": "aZcDexLBJQBD",
        "outputId": "b7f07316-d890-48ba-ec94-9f345c89e182"
      },
      "source": [
        "plt.figure(figsize=(10,6))\n",
        "sns.set_style('white')\n",
        "sns.lineplot(data=wdays_avg_duration, x='day_of_week', y='trip_duration_minute', hue='vendor_id', palette='muted')\n",
        "plt.xlabel('Day of the Week', fontsize=14)\n",
        "plt.ylabel('Duration (in minutes)', fontsize=14)\n",
        "plt.title('Average Trip Duration by Vendor in Day of Week', fontsize=16)\n",
        "plt.legend(['1','2'], title='Vendor ID')\n",
        "plt.show()"
      ],
      "execution_count": null,
      "outputs": [
        {
          "output_type": "display_data",
          "data": {
            "image/png": "[encoded data removed]",
            "text/plain": [
              "<Figure size 720x432 with 1 Axes>"
            ]
          },
          "metadata": {
            "tags": [],
            "needs_background": "light"
          }
        }
      ]
    },
    {
      "cell_type": "markdown",
      "metadata": {
        "id": "q83vrQGwJQBF"
      },
      "source": [
        "### 4. Average Trip Duration by Vendor in Day of Hour"
      ]
    },
    {
      "cell_type": "code",
      "metadata": {
        "id": "V8fyq0ykJQBG",
        "outputId": "2ce88ed4-e11d-441c-ac76-64d1c829fa73"
      },
      "source": [
        "hrdays_avg_duration=pd.DataFrame(df.groupby(['day_of_hour','vendor_id'])['trip_duration_minute'].mean()).reset_index()\n",
        "hrdays_avg_duration.columns=['day_of_hour','vendor_id','mean_trip_duration']\n",
        "hrdays_avg_duration.head()"
      ],
      "execution_count": null,
      "outputs": [
        {
          "output_type": "execute_result",
          "data": {
            "text/html": [
              "<div>\n",
              "<style scoped>\n",
              "    .dataframe tbody tr th:only-of-type {\n",
              "        vertical-align: middle;\n",
              "    }\n",
              "\n",
              "    .dataframe tbody tr th {\n",
              "        vertical-align: top;\n",
              "    }\n",
              "\n",
              "    .dataframe thead th {\n",
              "        text-align: right;\n",
              "    }\n",
              "</style>\n",
              "<table border=\"1\" class=\"dataframe\">\n",
              "  <thead>\n",
              "    <tr style=\"text-align: right;\">\n",
              "      <th></th>\n",
              "      <th>day_of_hour</th>\n",
              "      <th>vendor_id</th>\n",
              "      <th>mean_trip_duration</th>\n",
              "    </tr>\n",
              "  </thead>\n",
              "  <tbody>\n",
              "    <tr>\n",
              "      <th>0</th>\n",
              "      <td>0</td>\n",
              "      <td>1</td>\n",
              "      <td>14.217136</td>\n",
              "    </tr>\n",
              "    <tr>\n",
              "      <th>1</th>\n",
              "      <td>0</td>\n",
              "      <td>2</td>\n",
              "      <td>16.804303</td>\n",
              "    </tr>\n",
              "    <tr>\n",
              "      <th>2</th>\n",
              "      <td>1</td>\n",
              "      <td>1</td>\n",
              "      <td>12.298286</td>\n",
              "    </tr>\n",
              "    <tr>\n",
              "      <th>3</th>\n",
              "      <td>1</td>\n",
              "      <td>2</td>\n",
              "      <td>17.483206</td>\n",
              "    </tr>\n",
              "    <tr>\n",
              "      <th>4</th>\n",
              "      <td>2</td>\n",
              "      <td>1</td>\n",
              "      <td>11.540630</td>\n",
              "    </tr>\n",
              "  </tbody>\n",
              "</table>\n",
              "</div>"
            ],
            "text/plain": [
              "   day_of_hour  vendor_id  mean_trip_duration\n",
              "0            0          1           14.217136\n",
              "1            0          2           16.804303\n",
              "2            1          1           12.298286\n",
              "3            1          2           17.483206\n",
              "4            2          1           11.540630"
            ]
          },
          "metadata": {
            "tags": []
          },
          "execution_count": 16
        }
      ]
    },
    {
      "cell_type": "code",
      "metadata": {
        "id": "ezO-M1ACJQBH",
        "outputId": "4340faa8-ce6d-45ba-ace7-ec8585c2f241"
      },
      "source": [
        "plt.figure(figsize=(10,6))\n",
        "sns.set_style('whitegrid')\n",
        "sns.scatterplot(x='day_of_hour',y='mean_trip_duration',data=hrdays_avg_duration,hue='vendor_id',palette='muted')\n",
        "plt.xlabel('Hour in a Day', fontsize=14)\n",
        "plt.ylabel('Duration (in minutes)', fontsize=14)\n",
        "plt.title('Average Trip Duration by Vendor in Hour of Day', fontsize=16)\n",
        "plt.show()"
      ],
      "execution_count": null,
      "outputs": [
        {
          "output_type": "display_data",
          "data": {
            "image/png": "[encoded data removed]",
            "text/plain": [
              "<Figure size 720x432 with 1 Axes>"
            ]
          },
          "metadata": {
            "tags": []
          }
        }
      ]
    },
    {
      "cell_type": "markdown",
      "metadata": {
        "id": "B3R7fiaWJQBI"
      },
      "source": [
        "### 4. Number of Pickups by Day of Week"
      ]
    },
    {
      "cell_type": "code",
      "metadata": {
        "colab": {
          "base_uri": "https://localhost:8080/",
          "height": 204
        },
        "id": "rVOuigFeJQBJ",
        "outputId": "4f1eb133-a091-4b7d-b043-569aed6bc382"
      },
      "source": [
        "wdays_pickup = pd.DataFrame(df.groupby(['day_of_week','vendor_id'])['pickup_datetime'].count()).reset_index()\n",
        "wdays_pickup.columns=['day_of_week','vendor_id','pickup_counts']\n",
        "\n",
        "wdays_pickup['day_of_week']=pd.Categorical(wdays_pickup['day_of_week'],\\\n",
        "                                                 categories=['Monday','Tuesday','Wednesday','Thursday','Friday','Saturday','Sunday'])\n",
        "wdays_pickup= wdays_pickup.sort_values(by=['day_of_week'])\n",
        "wdays_pickup.head()\n"
      ],
      "execution_count": 7,
      "outputs": [
        {
          "output_type": "execute_result",
          "data": {
            "text/html": [
              "<div>\n",
              "<style scoped>\n",
              "    .dataframe tbody tr th:only-of-type {\n",
              "        vertical-align: middle;\n",
              "    }\n",
              "\n",
              "    .dataframe tbody tr th {\n",
              "        vertical-align: top;\n",
              "    }\n",
              "\n",
              "    .dataframe thead th {\n",
              "        text-align: right;\n",
              "    }\n",
              "</style>\n",
              "<table border=\"1\" class=\"dataframe\">\n",
              "  <thead>\n",
              "    <tr style=\"text-align: right;\">\n",
              "      <th></th>\n",
              "      <th>day_of_week</th>\n",
              "      <th>vendor_id</th>\n",
              "      <th>pickup_counts</th>\n",
              "    </tr>\n",
              "  </thead>\n",
              "  <tbody>\n",
              "    <tr>\n",
              "      <th>2</th>\n",
              "      <td>Monday</td>\n",
              "      <td>1</td>\n",
              "      <td>87282</td>\n",
              "    </tr>\n",
              "    <tr>\n",
              "      <th>3</th>\n",
              "      <td>Monday</td>\n",
              "      <td>2</td>\n",
              "      <td>100136</td>\n",
              "    </tr>\n",
              "    <tr>\n",
              "      <th>10</th>\n",
              "      <td>Tuesday</td>\n",
              "      <td>1</td>\n",
              "      <td>93857</td>\n",
              "    </tr>\n",
              "    <tr>\n",
              "      <th>11</th>\n",
              "      <td>Tuesday</td>\n",
              "      <td>2</td>\n",
              "      <td>108892</td>\n",
              "    </tr>\n",
              "    <tr>\n",
              "      <th>12</th>\n",
              "      <td>Wednesday</td>\n",
              "      <td>1</td>\n",
              "      <td>98090</td>\n",
              "    </tr>\n",
              "  </tbody>\n",
              "</table>\n",
              "</div>"
            ],
            "text/plain": [
              "   day_of_week  vendor_id  pickup_counts\n",
              "2       Monday          1          87282\n",
              "3       Monday          2         100136\n",
              "10     Tuesday          1          93857\n",
              "11     Tuesday          2         108892\n",
              "12   Wednesday          1          98090"
            ]
          },
          "metadata": {
            "tags": []
          },
          "execution_count": 7
        }
      ]
    },
    {
      "cell_type": "code",
      "metadata": {
        "id": "kWb4b_JPJQBK",
        "outputId": "dedab771-170f-4982-db15-6c439c413042"
      },
      "source": [
        "plt.figure(figsize=(10,6))\n",
        "sns.set_style('whitegrid')\n",
        "sns.scatterplot(x='day_of_week',y='pickup_counts',data=wdays_pickup,hue='vendor_id',palette='muted')\n",
        "plt.xlabel('Day of the Week',fontsize=14)\n",
        "plt.ylabel('Counts',fontsize=14)\n",
        "plt.title('Number of Pickups by Day of Week',fontsize=16)\n",
        "plt.show()"
      ],
      "execution_count": null,
      "outputs": [
        {
          "output_type": "display_data",
          "data": {
            "image/png": "[encoded data removed]",
            "text/plain": [
              "<Figure size 720x432 with 1 Axes>"
            ]
          },
          "metadata": {
            "tags": []
          }
        }
      ]
    },
    {
      "cell_type": "markdown",
      "metadata": {
        "id": "y7UWFByqJQBL"
      },
      "source": [
        "### 5. Number of Pickups by Day of Hour"
      ]
    },
    {
      "cell_type": "code",
      "metadata": {
        "id": "xV6OHgf5JQBN",
        "outputId": "e13751a6-da01-425d-e9eb-40e23c6d63b6"
      },
      "source": [
        "hrdays_pickup=pd.DataFrame(df.groupby(['day_of_hour','vendor_id'])['pickup_datetime'].count()).reset_index()\n",
        "hrdays_pickup.columns=['day_of_hour','vendor_id','pickup_counts']\n",
        "hrdays_pickup.head()"
      ],
      "execution_count": null,
      "outputs": [
        {
          "output_type": "execute_result",
          "data": {
            "text/html": [
              "<div>\n",
              "<style scoped>\n",
              "    .dataframe tbody tr th:only-of-type {\n",
              "        vertical-align: middle;\n",
              "    }\n",
              "\n",
              "    .dataframe tbody tr th {\n",
              "        vertical-align: top;\n",
              "    }\n",
              "\n",
              "    .dataframe thead th {\n",
              "        text-align: right;\n",
              "    }\n",
              "</style>\n",
              "<table border=\"1\" class=\"dataframe\">\n",
              "  <thead>\n",
              "    <tr style=\"text-align: right;\">\n",
              "      <th></th>\n",
              "      <th>day_of_hour</th>\n",
              "      <th>vendor_id</th>\n",
              "      <th>pickup_counts</th>\n",
              "    </tr>\n",
              "  </thead>\n",
              "  <tbody>\n",
              "    <tr>\n",
              "      <th>0</th>\n",
              "      <td>0</td>\n",
              "      <td>1</td>\n",
              "      <td>24561</td>\n",
              "    </tr>\n",
              "    <tr>\n",
              "      <th>1</th>\n",
              "      <td>0</td>\n",
              "      <td>2</td>\n",
              "      <td>28687</td>\n",
              "    </tr>\n",
              "    <tr>\n",
              "      <th>2</th>\n",
              "      <td>1</td>\n",
              "      <td>1</td>\n",
              "      <td>18090</td>\n",
              "    </tr>\n",
              "    <tr>\n",
              "      <th>3</th>\n",
              "      <td>1</td>\n",
              "      <td>2</td>\n",
              "      <td>20481</td>\n",
              "    </tr>\n",
              "    <tr>\n",
              "      <th>4</th>\n",
              "      <td>2</td>\n",
              "      <td>1</td>\n",
              "      <td>13570</td>\n",
              "    </tr>\n",
              "  </tbody>\n",
              "</table>\n",
              "</div>"
            ],
            "text/plain": [
              "   day_of_hour  vendor_id  pickup_counts\n",
              "0            0          1          24561\n",
              "1            0          2          28687\n",
              "2            1          1          18090\n",
              "3            1          2          20481\n",
              "4            2          1          13570"
            ]
          },
          "metadata": {
            "tags": []
          },
          "execution_count": 20
        }
      ]
    },
    {
      "cell_type": "code",
      "metadata": {
        "id": "EWyb_9bZJQBN",
        "outputId": "8a5739f2-a0e8-4764-c3c7-e1ce2f98123c"
      },
      "source": [
        "plt.figure(figsize=(10,6))\n",
        "sns.set_style('whitegrid')\n",
        "sns.scatterplot(x='day_of_hour',y='pickup_counts',data=hrdays_pickup,hue='vendor_id',palette='muted')\n",
        "plt.xlabel('Hour in a Day', fontsize=14)\n",
        "plt.ylabel('Counts', fontsize=14)\n",
        "plt.title('Number of Pickups by Hour of Day', fontsize=16)\n",
        "plt.show()"
      ],
      "execution_count": null,
      "outputs": [
        {
          "output_type": "display_data",
          "data": {
            "image/png": "[encoded data removed]",
            "text/plain": [
              "<Figure size 720x432 with 1 Axes>"
            ]
          },
          "metadata": {
            "tags": []
          }
        }
      ]
    },
    {
      "cell_type": "markdown",
      "metadata": {
        "id": "pGhsk6zrJQBO"
      },
      "source": [
        "### 5. Daily Average Trip Duration by Vendor "
      ]
    },
    {
      "cell_type": "code",
      "metadata": {
        "id": "1-tq6M-MJQBP",
        "outputId": "0ddd4234-6f67-433c-c960-4a255ca5225a"
      },
      "source": [
        "daily_avg_duration = pd.DataFrame(df.groupby(['vendor_id','pickup_date'])['trip_duration'].mean())\n",
        "daily_avg_duration.reset_index(inplace=True)\n",
        "\n",
        "\n",
        "daily_avg_duration.head()"
      ],
      "execution_count": null,
      "outputs": [
        {
          "output_type": "execute_result",
          "data": {
            "text/html": [
              "<div>\n",
              "<style scoped>\n",
              "    .dataframe tbody tr th:only-of-type {\n",
              "        vertical-align: middle;\n",
              "    }\n",
              "\n",
              "    .dataframe tbody tr th {\n",
              "        vertical-align: top;\n",
              "    }\n",
              "\n",
              "    .dataframe thead th {\n",
              "        text-align: right;\n",
              "    }\n",
              "</style>\n",
              "<table border=\"1\" class=\"dataframe\">\n",
              "  <thead>\n",
              "    <tr style=\"text-align: right;\">\n",
              "      <th></th>\n",
              "      <th>vendor_id</th>\n",
              "      <th>pickup_date</th>\n",
              "      <th>trip_duration</th>\n",
              "    </tr>\n",
              "  </thead>\n",
              "  <tbody>\n",
              "    <tr>\n",
              "      <th>0</th>\n",
              "      <td>1</td>\n",
              "      <td>2016-01-01</td>\n",
              "      <td>718.280313</td>\n",
              "    </tr>\n",
              "    <tr>\n",
              "      <th>1</th>\n",
              "      <td>1</td>\n",
              "      <td>2016-01-02</td>\n",
              "      <td>707.772461</td>\n",
              "    </tr>\n",
              "    <tr>\n",
              "      <th>2</th>\n",
              "      <td>1</td>\n",
              "      <td>2016-01-03</td>\n",
              "      <td>717.476680</td>\n",
              "    </tr>\n",
              "    <tr>\n",
              "      <th>3</th>\n",
              "      <td>1</td>\n",
              "      <td>2016-01-04</td>\n",
              "      <td>709.356199</td>\n",
              "    </tr>\n",
              "    <tr>\n",
              "      <th>4</th>\n",
              "      <td>1</td>\n",
              "      <td>2016-01-05</td>\n",
              "      <td>1987.441902</td>\n",
              "    </tr>\n",
              "  </tbody>\n",
              "</table>\n",
              "</div>"
            ],
            "text/plain": [
              "   vendor_id pickup_date  trip_duration\n",
              "0          1  2016-01-01     718.280313\n",
              "1          1  2016-01-02     707.772461\n",
              "2          1  2016-01-03     717.476680\n",
              "3          1  2016-01-04     709.356199\n",
              "4          1  2016-01-05    1987.441902"
            ]
          },
          "metadata": {
            "tags": []
          },
          "execution_count": 22
        }
      ]
    },
    {
      "cell_type": "code",
      "metadata": {
        "id": "vs2mOuNeJQBP",
        "outputId": "bcdb20cc-b100-4d4c-d9cd-243757da1d2d"
      },
      "source": [
        "plt.figure(figsize=(10,6))\n",
        "sns.lineplot(data=daily_avg_duration, x='pickup_date', y='trip_duration', hue='vendor_id', palette='muted')\n",
        "plt.xlabel('Date', fontsize=14)\n",
        "plt.ylabel('Duration (in seconds)', fontsize=14)\n",
        "plt.title('Daily Average Trip Duration by Vendor', fontsize=16)\n",
        "plt.legend(['1','2'], title='Vendor ID')\n",
        "plt.show()"
      ],
      "execution_count": null,
      "outputs": [
        {
          "output_type": "display_data",
          "data": {
            "image/png": "[encoded data removed]",
            "text/plain": [
              "<Figure size 720x432 with 1 Axes>"
            ]
          },
          "metadata": {
            "tags": []
          }
        }
      ]
    },
    {
      "cell_type": "markdown",
      "metadata": {
        "id": "7LsTIl5zJQBQ"
      },
      "source": [
        "### 6. Distribution of Pickup dates and Dropoff dates"
      ]
    },
    {
      "cell_type": "code",
      "metadata": {
        "id": "y7jq6fdIJQBR",
        "outputId": "ccf01984-ce39-4514-f184-e1730698638e"
      },
      "source": [
        "fig, ax = plt.subplots(1,2, figsize=(12,6))\n",
        "sns.set_style('white')\n",
        "fig.suptitle('Distribution of Pickup dates and Dropoff dates', fontsize=16)\n",
        "ax[0].hist(df['pickup_datetime'],bins=50,color='lightsteelblue')\n",
        "ax[1].hist(df['dropoff_datetime'],bins=50,color='cadetblue')\n",
        "\n",
        "ax[0].set_xlabel('Pickup dates',fontsize=14)\n",
        "ax[1].set_xlabel('Dropoff dates', fontsize=14)\n",
        "ax[0].set_ylabel('Counts', fontsize=14)\n",
        "\n",
        "plt.show()"
      ],
      "execution_count": null,
      "outputs": [
        {
          "output_type": "display_data",
          "data": {
            "image/png": "[encoded data removed]",
            "text/plain": [
              "<Figure size 864x432 with 2 Axes>"
            ]
          },
          "metadata": {
            "tags": []
          }
        }
      ]
    },
    {
      "cell_type": "markdown",
      "metadata": {
        "id": "-lY0Oh2DJQBS"
      },
      "source": [
        "### 7. Passenger Count Distribution"
      ]
    },
    {
      "cell_type": "code",
      "metadata": {
        "id": "ssilw_rGJQBS",
        "outputId": "7ee854aa-1dae-4a72-8aea-b5e72f801f70"
      },
      "source": [
        "df.groupby(['passenger_count'])['passenger_count'].count().plot(kind='bar',figsize=(10,6),color=['lavender','palegoldenrod'])\n",
        "plt.xlabel('Number of passengers',fontsize=14)\n",
        "plt.ylabel('Count',fontsize=14)\n",
        "plt.xticks(rotation='horizontal')\n",
        "plt.title('Passenger Count Distribution',fontsize=16)\n",
        "plt.show()"
      ],
      "execution_count": null,
      "outputs": [
        {
          "output_type": "display_data",
          "data": {
            "image/png": "[encoded data removed]",
            "text/plain": [
              "<Figure size 720x432 with 1 Axes>"
            ]
          },
          "metadata": {
            "tags": []
          }
        }
      ]
    },
    {
      "cell_type": "markdown",
      "metadata": {
        "id": "zPHo_JLdJQBT"
      },
      "source": [
        "### 7. Vendor ID count"
      ]
    },
    {
      "cell_type": "code",
      "metadata": {
        "id": "d4tlpN5IJQBV",
        "outputId": "640540a7-4c63-4947-8a5c-a8a15242ad6a"
      },
      "source": [
        "df.groupby(['vendor_id'])['vendor_id'].count().plot(kind='bar',figsize=(10,6),color=['lightsteelblue','thistle'])\n",
        "plt.xlabel('Vendor ID',fontsize=14)\n",
        "plt.ylabel('Count',fontsize=14)\n",
        "plt.xticks(rotation='horizontal')\n",
        "plt.title('Frequency distribution of vendor_id',fontsize=16)\n",
        "plt.show()"
      ],
      "execution_count": null,
      "outputs": [
        {
          "output_type": "display_data",
          "data": {
            "image/png": "[encoded data removed]",
            "text/plain": [
              "<Figure size 720x432 with 1 Axes>"
            ]
          },
          "metadata": {
            "tags": []
          }
        }
      ]
    },
    {
      "cell_type": "markdown",
      "metadata": {
        "id": "1NJRcnFsJQBh"
      },
      "source": [
        "### 8. Distance Spread"
      ]
    },
    {
      "cell_type": "code",
      "metadata": {
        "id": "ezJkcB5HJQBk"
      },
      "source": [
        "def cal_distance(pickup_lon, pickup_lat, dropoff_lon, dropoff_lat):\n",
        "    \n",
        "    distance_list = []\n",
        "    # radius of the earth \n",
        "    R = 6373.0\n",
        "    for i in range(len(pickup_lon)):\n",
        "        lon1 = math.radians(pickup_lon[i])\n",
        "        lat1 = math.radians(pickup_lat[i])\n",
        "        lon2 = math.radians(dropoff_lon[i])\n",
        "        lat2 = math.radians(dropoff_lat[i])\n",
        "        # distance in lon\n",
        "        dis_lon = lon2 - lon1\n",
        "        # distance in lat\n",
        "        dis_lat = lat2 - lat1\n",
        "        # Haversine formula\n",
        "        a = math.sin(dis_lat / 2)**2 + math.cos(lat1) * math.cos(lat2) * math.sin(dis_lon / 2)**2\n",
        "        c = 2 * math.atan2(math.sqrt(a), math.sqrt(1 - a))\n",
        "        distance = R * c   # the unit of distance is 'km'\n",
        "        distance_list.append(distance)\n",
        "    return pd.Series(distance_list)"
      ],
      "execution_count": 41,
      "outputs": []
    },
    {
      "cell_type": "code",
      "metadata": {
        "colab": {
          "base_uri": "https://localhost:8080/"
        },
        "id": "f9YVHKNqJQBm",
        "outputId": "1d170b0a-50d6-4338-aebc-a2d75e37024b"
      },
      "source": [
        "distance = cal_distance(df['pickup_longitude'], df['pickup_latitude'], df['dropoff_longitude'], df['dropoff_latitude'])\n",
        "print('The distance (in km) between pickup and dropoff location is:\\n', distance)"
      ],
      "execution_count": 52,
      "outputs": [
        {
          "output_type": "stream",
          "text": [
            "The distance (in km) between pickup and dropoff location is:\n",
            " 0          1.498991\n",
            "1          1.806074\n",
            "2          6.387103\n",
            "3          1.485965\n",
            "4          1.188962\n",
            "             ...   \n",
            "1458639    1.225465\n",
            "1458640    6.051735\n",
            "1458641    7.827062\n",
            "1458642    1.092907\n",
            "1458643    1.134398\n",
            "Length: 1458644, dtype: float64\n"
          ],
          "name": "stdout"
        }
      ]
    },
    {
      "cell_type": "code",
      "metadata": {
        "id": "xRvm6o92JQBn",
        "outputId": "4e59c341-1078-4be3-ef4a-d0b516c6eceb"
      },
      "source": [
        "plt.figure(figsize = (6, 6))\n",
        "plt.boxplot(distance, showfliers=False) \n",
        "plt.ylabel('Distance (km)', fontsize = 15)\n",
        "plt.title('\\nThe spread of distances between pickup and dropoff locations', fontsize = 15)\n",
        "plt.show()"
      ],
      "execution_count": null,
      "outputs": [
        {
          "output_type": "display_data",
          "data": {
            "image/png": "[encoded data removed]",
            "text/plain": [
              "<Figure size 432x432 with 1 Axes>"
            ]
          },
          "metadata": {
            "tags": []
          }
        }
      ]
    },
    {
      "cell_type": "markdown",
      "metadata": {
        "id": "g3SmqZlrJQBx"
      },
      "source": [
        "### Feature engineering: new feature `Distance` (in km), `month`"
      ]
    },
    {
      "cell_type": "code",
      "metadata": {
        "id": "sjhcn0TmJQB1"
      },
      "source": [
        "#Function aiming at calculating distances from coordinates\n",
        "def ft_haversine_distance(lat1, lng1, lat2, lng2):\n",
        "    lat1, lng1, lat2, lng2 = map(np.radians, (lat1, lng1, lat2, lng2))\n",
        "    AVG_EARTH_RADIUS = 6371 #km\n",
        "    lat = lat2 - lat1\n",
        "    lng = lng2 - lng1\n",
        "    d = np.sin(lat * 0.5) ** 2 + np.cos(lat1) * np.cos(lat2) * np.sin(lng * 0.5) ** 2\n",
        "    h = 2 * AVG_EARTH_RADIUS * np.arcsin(np.sqrt(d))\n",
        "    return h\n",
        "\n",
        "#Add distance feature\n",
        "df['distance'] = ft_haversine_distance(df['pickup_latitude'].values,\n",
        "                                                 df['pickup_longitude'].values, \n",
        "                                                 df['dropoff_latitude'].values,\n",
        "                                                 df['dropoff_longitude'].values)"
      ],
      "execution_count": 53,
      "outputs": []
    },
    {
      "cell_type": "code",
      "metadata": {
        "id": "DmwlAVFaJQB4"
      },
      "source": [
        "df['distance'] = distance.to_frame(name='distance')"
      ],
      "execution_count": 54,
      "outputs": []
    },
    {
      "cell_type": "code",
      "metadata": {
        "id": "KWJSoDknJQB5"
      },
      "source": [
        "df['month'] = df['pickup_datetime'].dt.month"
      ],
      "execution_count": 55,
      "outputs": []
    },
    {
      "cell_type": "code",
      "metadata": {
        "colab": {
          "base_uri": "https://localhost:8080/",
          "height": 309
        },
        "id": "FhjO4pZxJQB6",
        "outputId": "35ecf4cb-82f5-41d7-bebe-e50a8678012d"
      },
      "source": [
        "df.head()"
      ],
      "execution_count": 15,
      "outputs": [
        {
          "output_type": "execute_result",
          "data": {
            "text/html": [
              "<div>\n",
              "<style scoped>\n",
              "    .dataframe tbody tr th:only-of-type {\n",
              "        vertical-align: middle;\n",
              "    }\n",
              "\n",
              "    .dataframe tbody tr th {\n",
              "        vertical-align: top;\n",
              "    }\n",
              "\n",
              "    .dataframe thead th {\n",
              "        text-align: right;\n",
              "    }\n",
              "</style>\n",
              "<table border=\"1\" class=\"dataframe\">\n",
              "  <thead>\n",
              "    <tr style=\"text-align: right;\">\n",
              "      <th></th>\n",
              "      <th>id</th>\n",
              "      <th>vendor_id</th>\n",
              "      <th>pickup_datetime</th>\n",
              "      <th>dropoff_datetime</th>\n",
              "      <th>passenger_count</th>\n",
              "      <th>pickup_longitude</th>\n",
              "      <th>pickup_latitude</th>\n",
              "      <th>dropoff_longitude</th>\n",
              "      <th>dropoff_latitude</th>\n",
              "      <th>store_and_fwd_flag</th>\n",
              "      <th>trip_duration</th>\n",
              "      <th>pickup_date</th>\n",
              "      <th>day_of_week</th>\n",
              "      <th>day_of_hour</th>\n",
              "      <th>trip_duration_minute</th>\n",
              "      <th>distance</th>\n",
              "      <th>month</th>\n",
              "    </tr>\n",
              "  </thead>\n",
              "  <tbody>\n",
              "    <tr>\n",
              "      <th>0</th>\n",
              "      <td>id2875421</td>\n",
              "      <td>2</td>\n",
              "      <td>2016-03-14 17:24:55</td>\n",
              "      <td>2016-03-14 17:32:30</td>\n",
              "      <td>1</td>\n",
              "      <td>-73.982155</td>\n",
              "      <td>40.767937</td>\n",
              "      <td>-73.964630</td>\n",
              "      <td>40.765602</td>\n",
              "      <td>N</td>\n",
              "      <td>455</td>\n",
              "      <td>2016-03-14</td>\n",
              "      <td>Monday</td>\n",
              "      <td>17</td>\n",
              "      <td>7.583333</td>\n",
              "      <td>1.498991</td>\n",
              "      <td>3</td>\n",
              "    </tr>\n",
              "    <tr>\n",
              "      <th>1</th>\n",
              "      <td>id2377394</td>\n",
              "      <td>1</td>\n",
              "      <td>2016-06-12 00:43:35</td>\n",
              "      <td>2016-06-12 00:54:38</td>\n",
              "      <td>1</td>\n",
              "      <td>-73.980415</td>\n",
              "      <td>40.738564</td>\n",
              "      <td>-73.999481</td>\n",
              "      <td>40.731152</td>\n",
              "      <td>N</td>\n",
              "      <td>663</td>\n",
              "      <td>2016-06-12</td>\n",
              "      <td>Sunday</td>\n",
              "      <td>0</td>\n",
              "      <td>11.050000</td>\n",
              "      <td>1.806074</td>\n",
              "      <td>6</td>\n",
              "    </tr>\n",
              "    <tr>\n",
              "      <th>2</th>\n",
              "      <td>id3858529</td>\n",
              "      <td>2</td>\n",
              "      <td>2016-01-19 11:35:24</td>\n",
              "      <td>2016-01-19 12:10:48</td>\n",
              "      <td>1</td>\n",
              "      <td>-73.979027</td>\n",
              "      <td>40.763939</td>\n",
              "      <td>-74.005333</td>\n",
              "      <td>40.710087</td>\n",
              "      <td>N</td>\n",
              "      <td>2124</td>\n",
              "      <td>2016-01-19</td>\n",
              "      <td>Tuesday</td>\n",
              "      <td>11</td>\n",
              "      <td>35.400000</td>\n",
              "      <td>6.387103</td>\n",
              "      <td>1</td>\n",
              "    </tr>\n",
              "    <tr>\n",
              "      <th>3</th>\n",
              "      <td>id3504673</td>\n",
              "      <td>2</td>\n",
              "      <td>2016-04-06 19:32:31</td>\n",
              "      <td>2016-04-06 19:39:40</td>\n",
              "      <td>1</td>\n",
              "      <td>-74.010040</td>\n",
              "      <td>40.719971</td>\n",
              "      <td>-74.012268</td>\n",
              "      <td>40.706718</td>\n",
              "      <td>N</td>\n",
              "      <td>429</td>\n",
              "      <td>2016-04-06</td>\n",
              "      <td>Wednesday</td>\n",
              "      <td>19</td>\n",
              "      <td>7.150000</td>\n",
              "      <td>1.485965</td>\n",
              "      <td>4</td>\n",
              "    </tr>\n",
              "    <tr>\n",
              "      <th>4</th>\n",
              "      <td>id2181028</td>\n",
              "      <td>2</td>\n",
              "      <td>2016-03-26 13:30:55</td>\n",
              "      <td>2016-03-26 13:38:10</td>\n",
              "      <td>1</td>\n",
              "      <td>-73.973053</td>\n",
              "      <td>40.793209</td>\n",
              "      <td>-73.972923</td>\n",
              "      <td>40.782520</td>\n",
              "      <td>N</td>\n",
              "      <td>435</td>\n",
              "      <td>2016-03-26</td>\n",
              "      <td>Saturday</td>\n",
              "      <td>13</td>\n",
              "      <td>7.250000</td>\n",
              "      <td>1.188962</td>\n",
              "      <td>3</td>\n",
              "    </tr>\n",
              "  </tbody>\n",
              "</table>\n",
              "</div>"
            ],
            "text/plain": [
              "          id  vendor_id  ...  distance month\n",
              "0  id2875421          2  ...  1.498991     3\n",
              "1  id2377394          1  ...  1.806074     6\n",
              "2  id3858529          2  ...  6.387103     1\n",
              "3  id3504673          2  ...  1.485965     4\n",
              "4  id2181028          2  ...  1.188962     3\n",
              "\n",
              "[5 rows x 17 columns]"
            ]
          },
          "metadata": {
            "tags": []
          },
          "execution_count": 15
        }
      ]
    },
    {
      "cell_type": "markdown",
      "metadata": {
        "id": "MfXGDpH0JQB9"
      },
      "source": [
        "### Train test dataset split, take log of duration as the target variable"
      ]
    },
    {
      "cell_type": "code",
      "metadata": {
        "id": "130C1EiGJQB_"
      },
      "source": [
        "from sklearn.model_selection import train_test_split\n",
        "from sklearn.ensemble import RandomForestRegressor"
      ],
      "execution_count": 47,
      "outputs": []
    },
    {
      "cell_type": "code",
      "metadata": {
        "colab": {
          "base_uri": "https://localhost:8080/",
          "height": 609
        },
        "id": "3f577wySVmqC",
        "outputId": "0e88db56-8796-4c13-9a08-33d52c99278e"
      },
      "source": [
        "# Since the training set is too large, to shorten the training time of random forest regressor, \n",
        "# only 1% of the data is used for the purpose of feature selection modeling\n",
        "df = df.sample(frac=0.1, random_state=666)\n",
        "df"
      ],
      "execution_count": 56,
      "outputs": [
        {
          "output_type": "execute_result",
          "data": {
            "text/html": [
              "<div>\n",
              "<style scoped>\n",
              "    .dataframe tbody tr th:only-of-type {\n",
              "        vertical-align: middle;\n",
              "    }\n",
              "\n",
              "    .dataframe tbody tr th {\n",
              "        vertical-align: top;\n",
              "    }\n",
              "\n",
              "    .dataframe thead th {\n",
              "        text-align: right;\n",
              "    }\n",
              "</style>\n",
              "<table border=\"1\" class=\"dataframe\">\n",
              "  <thead>\n",
              "    <tr style=\"text-align: right;\">\n",
              "      <th></th>\n",
              "      <th>id</th>\n",
              "      <th>vendor_id</th>\n",
              "      <th>pickup_datetime</th>\n",
              "      <th>dropoff_datetime</th>\n",
              "      <th>passenger_count</th>\n",
              "      <th>pickup_longitude</th>\n",
              "      <th>pickup_latitude</th>\n",
              "      <th>dropoff_longitude</th>\n",
              "      <th>dropoff_latitude</th>\n",
              "      <th>store_and_fwd_flag</th>\n",
              "      <th>trip_duration</th>\n",
              "      <th>pickup_date</th>\n",
              "      <th>day_of_week</th>\n",
              "      <th>day_of_hour</th>\n",
              "      <th>trip_duration_minute</th>\n",
              "      <th>distance</th>\n",
              "      <th>month</th>\n",
              "    </tr>\n",
              "  </thead>\n",
              "  <tbody>\n",
              "    <tr>\n",
              "      <th>807955</th>\n",
              "      <td>id2153605</td>\n",
              "      <td>2</td>\n",
              "      <td>2016-02-10 23:13:44</td>\n",
              "      <td>2016-02-10 23:36:54</td>\n",
              "      <td>1</td>\n",
              "      <td>-73.998390</td>\n",
              "      <td>40.745201</td>\n",
              "      <td>-73.854752</td>\n",
              "      <td>40.725712</td>\n",
              "      <td>N</td>\n",
              "      <td>1390</td>\n",
              "      <td>2016-02-10</td>\n",
              "      <td>Wednesday</td>\n",
              "      <td>23</td>\n",
              "      <td>23.166667</td>\n",
              "      <td>12.298740</td>\n",
              "      <td>2</td>\n",
              "    </tr>\n",
              "    <tr>\n",
              "      <th>810024</th>\n",
              "      <td>id3199815</td>\n",
              "      <td>2</td>\n",
              "      <td>2016-03-15 06:40:22</td>\n",
              "      <td>2016-03-15 06:46:38</td>\n",
              "      <td>6</td>\n",
              "      <td>-73.998688</td>\n",
              "      <td>40.734921</td>\n",
              "      <td>-73.986740</td>\n",
              "      <td>40.760208</td>\n",
              "      <td>N</td>\n",
              "      <td>376</td>\n",
              "      <td>2016-03-15</td>\n",
              "      <td>Tuesday</td>\n",
              "      <td>6</td>\n",
              "      <td>6.266667</td>\n",
              "      <td>2.987495</td>\n",
              "      <td>3</td>\n",
              "    </tr>\n",
              "    <tr>\n",
              "      <th>512091</th>\n",
              "      <td>id3148618</td>\n",
              "      <td>2</td>\n",
              "      <td>2016-06-30 23:15:43</td>\n",
              "      <td>2016-06-30 23:26:46</td>\n",
              "      <td>1</td>\n",
              "      <td>-73.991783</td>\n",
              "      <td>40.764633</td>\n",
              "      <td>-73.967064</td>\n",
              "      <td>40.758640</td>\n",
              "      <td>N</td>\n",
              "      <td>663</td>\n",
              "      <td>2016-06-30</td>\n",
              "      <td>Thursday</td>\n",
              "      <td>23</td>\n",
              "      <td>11.050000</td>\n",
              "      <td>2.186653</td>\n",
              "      <td>6</td>\n",
              "    </tr>\n",
              "    <tr>\n",
              "      <th>1100633</th>\n",
              "      <td>id0060287</td>\n",
              "      <td>1</td>\n",
              "      <td>2016-04-08 00:25:45</td>\n",
              "      <td>2016-04-08 00:36:32</td>\n",
              "      <td>1</td>\n",
              "      <td>-73.984901</td>\n",
              "      <td>40.728165</td>\n",
              "      <td>-73.954170</td>\n",
              "      <td>40.770313</td>\n",
              "      <td>N</td>\n",
              "      <td>647</td>\n",
              "      <td>2016-04-08</td>\n",
              "      <td>Friday</td>\n",
              "      <td>0</td>\n",
              "      <td>10.783333</td>\n",
              "      <td>5.355824</td>\n",
              "      <td>4</td>\n",
              "    </tr>\n",
              "    <tr>\n",
              "      <th>865247</th>\n",
              "      <td>id0632685</td>\n",
              "      <td>1</td>\n",
              "      <td>2016-02-10 21:03:58</td>\n",
              "      <td>2016-02-10 21:08:53</td>\n",
              "      <td>1</td>\n",
              "      <td>-73.955688</td>\n",
              "      <td>40.785088</td>\n",
              "      <td>-73.969078</td>\n",
              "      <td>40.794418</td>\n",
              "      <td>N</td>\n",
              "      <td>295</td>\n",
              "      <td>2016-02-10</td>\n",
              "      <td>Wednesday</td>\n",
              "      <td>21</td>\n",
              "      <td>4.916667</td>\n",
              "      <td>1.532512</td>\n",
              "      <td>2</td>\n",
              "    </tr>\n",
              "    <tr>\n",
              "      <th>...</th>\n",
              "      <td>...</td>\n",
              "      <td>...</td>\n",
              "      <td>...</td>\n",
              "      <td>...</td>\n",
              "      <td>...</td>\n",
              "      <td>...</td>\n",
              "      <td>...</td>\n",
              "      <td>...</td>\n",
              "      <td>...</td>\n",
              "      <td>...</td>\n",
              "      <td>...</td>\n",
              "      <td>...</td>\n",
              "      <td>...</td>\n",
              "      <td>...</td>\n",
              "      <td>...</td>\n",
              "      <td>...</td>\n",
              "      <td>...</td>\n",
              "    </tr>\n",
              "    <tr>\n",
              "      <th>1397176</th>\n",
              "      <td>id0592128</td>\n",
              "      <td>1</td>\n",
              "      <td>2016-03-20 20:49:24</td>\n",
              "      <td>2016-03-20 21:01:26</td>\n",
              "      <td>1</td>\n",
              "      <td>-73.987854</td>\n",
              "      <td>40.724430</td>\n",
              "      <td>-74.000999</td>\n",
              "      <td>40.710438</td>\n",
              "      <td>N</td>\n",
              "      <td>722</td>\n",
              "      <td>2016-03-20</td>\n",
              "      <td>Sunday</td>\n",
              "      <td>20</td>\n",
              "      <td>12.033333</td>\n",
              "      <td>1.910611</td>\n",
              "      <td>3</td>\n",
              "    </tr>\n",
              "    <tr>\n",
              "      <th>1015790</th>\n",
              "      <td>id3143443</td>\n",
              "      <td>2</td>\n",
              "      <td>2016-02-13 10:31:25</td>\n",
              "      <td>2016-02-13 10:42:51</td>\n",
              "      <td>1</td>\n",
              "      <td>-73.973717</td>\n",
              "      <td>40.750408</td>\n",
              "      <td>-74.000542</td>\n",
              "      <td>40.758308</td>\n",
              "      <td>N</td>\n",
              "      <td>686</td>\n",
              "      <td>2016-02-13</td>\n",
              "      <td>Saturday</td>\n",
              "      <td>10</td>\n",
              "      <td>11.433333</td>\n",
              "      <td>2.425037</td>\n",
              "      <td>2</td>\n",
              "    </tr>\n",
              "    <tr>\n",
              "      <th>795545</th>\n",
              "      <td>id2035923</td>\n",
              "      <td>2</td>\n",
              "      <td>2016-01-02 23:28:20</td>\n",
              "      <td>2016-01-02 23:46:12</td>\n",
              "      <td>1</td>\n",
              "      <td>-73.976341</td>\n",
              "      <td>40.764107</td>\n",
              "      <td>-74.005890</td>\n",
              "      <td>40.740131</td>\n",
              "      <td>N</td>\n",
              "      <td>1072</td>\n",
              "      <td>2016-01-02</td>\n",
              "      <td>Saturday</td>\n",
              "      <td>23</td>\n",
              "      <td>17.866667</td>\n",
              "      <td>3.648399</td>\n",
              "      <td>1</td>\n",
              "    </tr>\n",
              "    <tr>\n",
              "      <th>1321048</th>\n",
              "      <td>id2713466</td>\n",
              "      <td>2</td>\n",
              "      <td>2016-06-08 10:39:57</td>\n",
              "      <td>2016-06-08 10:46:21</td>\n",
              "      <td>1</td>\n",
              "      <td>-73.978584</td>\n",
              "      <td>40.762596</td>\n",
              "      <td>-73.980270</td>\n",
              "      <td>40.765831</td>\n",
              "      <td>N</td>\n",
              "      <td>384</td>\n",
              "      <td>2016-06-08</td>\n",
              "      <td>Wednesday</td>\n",
              "      <td>10</td>\n",
              "      <td>6.400000</td>\n",
              "      <td>0.386837</td>\n",
              "      <td>6</td>\n",
              "    </tr>\n",
              "    <tr>\n",
              "      <th>630738</th>\n",
              "      <td>id3824242</td>\n",
              "      <td>1</td>\n",
              "      <td>2016-02-24 13:07:00</td>\n",
              "      <td>2016-02-24 13:12:36</td>\n",
              "      <td>1</td>\n",
              "      <td>-73.959877</td>\n",
              "      <td>40.779678</td>\n",
              "      <td>-73.957924</td>\n",
              "      <td>40.775459</td>\n",
              "      <td>N</td>\n",
              "      <td>336</td>\n",
              "      <td>2016-02-24</td>\n",
              "      <td>Wednesday</td>\n",
              "      <td>13</td>\n",
              "      <td>5.600000</td>\n",
              "      <td>0.497284</td>\n",
              "      <td>2</td>\n",
              "    </tr>\n",
              "  </tbody>\n",
              "</table>\n",
              "<p>145864 rows × 17 columns</p>\n",
              "</div>"
            ],
            "text/plain": [
              "                id  vendor_id  ...   distance month\n",
              "807955   id2153605          2  ...  12.298740     2\n",
              "810024   id3199815          2  ...   2.987495     3\n",
              "512091   id3148618          2  ...   2.186653     6\n",
              "1100633  id0060287          1  ...   5.355824     4\n",
              "865247   id0632685          1  ...   1.532512     2\n",
              "...            ...        ...  ...        ...   ...\n",
              "1397176  id0592128          1  ...   1.910611     3\n",
              "1015790  id3143443          2  ...   2.425037     2\n",
              "795545   id2035923          2  ...   3.648399     1\n",
              "1321048  id2713466          2  ...   0.386837     6\n",
              "630738   id3824242          1  ...   0.497284     2\n",
              "\n",
              "[145864 rows x 17 columns]"
            ]
          },
          "metadata": {
            "tags": []
          },
          "execution_count": 56
        }
      ]
    },
    {
      "cell_type": "code",
      "metadata": {
        "id": "cin49n_oJQCA"
      },
      "source": [
        "X = df.drop(['id','trip_duration','pickup_date','pickup_datetime','dropoff_datetime','trip_duration_minute'], axis=1)\n",
        "y = np.log(df['trip_duration'])"
      ],
      "execution_count": 57,
      "outputs": []
    },
    {
      "cell_type": "code",
      "metadata": {
        "id": "ewo-Z0qKJQCB"
      },
      "source": [
        "X_train,X_test,y_train,y_test = train_test_split(X,y,test_size=0.3, random_state=666)"
      ],
      "execution_count": 73,
      "outputs": []
    },
    {
      "cell_type": "code",
      "metadata": {
        "colab": {
          "base_uri": "https://localhost:8080/"
        },
        "id": "rCmPVeAiJQCC",
        "outputId": "019d5088-847b-4ac8-befe-90e518386fc8"
      },
      "source": [
        "X_train.shape, y_train.shape, X_test.shape, y_test.shape"
      ],
      "execution_count": 59,
      "outputs": [
        {
          "output_type": "execute_result",
          "data": {
            "text/plain": [
              "((109398, 11), (109398,), (36466, 11), (36466,))"
            ]
          },
          "metadata": {
            "tags": []
          },
          "execution_count": 59
        }
      ]
    },
    {
      "cell_type": "code",
      "metadata": {
        "colab": {
          "base_uri": "https://localhost:8080/",
          "height": 224
        },
        "id": "08FAYEt6JQCG",
        "outputId": "22383893-2a8c-42aa-f155-bf724aecdb6a"
      },
      "source": [
        "X_train.head()"
      ],
      "execution_count": 18,
      "outputs": [
        {
          "output_type": "execute_result",
          "data": {
            "text/html": [
              "<div>\n",
              "<style scoped>\n",
              "    .dataframe tbody tr th:only-of-type {\n",
              "        vertical-align: middle;\n",
              "    }\n",
              "\n",
              "    .dataframe tbody tr th {\n",
              "        vertical-align: top;\n",
              "    }\n",
              "\n",
              "    .dataframe thead th {\n",
              "        text-align: right;\n",
              "    }\n",
              "</style>\n",
              "<table border=\"1\" class=\"dataframe\">\n",
              "  <thead>\n",
              "    <tr style=\"text-align: right;\">\n",
              "      <th></th>\n",
              "      <th>vendor_id</th>\n",
              "      <th>passenger_count</th>\n",
              "      <th>pickup_longitude</th>\n",
              "      <th>pickup_latitude</th>\n",
              "      <th>dropoff_longitude</th>\n",
              "      <th>dropoff_latitude</th>\n",
              "      <th>store_and_fwd_flag</th>\n",
              "      <th>day_of_week</th>\n",
              "      <th>day_of_hour</th>\n",
              "      <th>distance</th>\n",
              "      <th>month</th>\n",
              "    </tr>\n",
              "  </thead>\n",
              "  <tbody>\n",
              "    <tr>\n",
              "      <th>74271</th>\n",
              "      <td>1</td>\n",
              "      <td>1</td>\n",
              "      <td>-73.987137</td>\n",
              "      <td>40.754986</td>\n",
              "      <td>-73.979912</td>\n",
              "      <td>40.739620</td>\n",
              "      <td>N</td>\n",
              "      <td>Sunday</td>\n",
              "      <td>18</td>\n",
              "      <td>1.814317</td>\n",
              "      <td>3</td>\n",
              "    </tr>\n",
              "    <tr>\n",
              "      <th>484810</th>\n",
              "      <td>2</td>\n",
              "      <td>1</td>\n",
              "      <td>-73.994438</td>\n",
              "      <td>40.726185</td>\n",
              "      <td>-73.981148</td>\n",
              "      <td>40.728168</td>\n",
              "      <td>N</td>\n",
              "      <td>Monday</td>\n",
              "      <td>13</td>\n",
              "      <td>1.141806</td>\n",
              "      <td>1</td>\n",
              "    </tr>\n",
              "    <tr>\n",
              "      <th>366156</th>\n",
              "      <td>2</td>\n",
              "      <td>2</td>\n",
              "      <td>-73.954330</td>\n",
              "      <td>40.764042</td>\n",
              "      <td>-73.982750</td>\n",
              "      <td>40.761539</td>\n",
              "      <td>N</td>\n",
              "      <td>Sunday</td>\n",
              "      <td>23</td>\n",
              "      <td>2.410400</td>\n",
              "      <td>1</td>\n",
              "    </tr>\n",
              "    <tr>\n",
              "      <th>1249224</th>\n",
              "      <td>1</td>\n",
              "      <td>1</td>\n",
              "      <td>-73.967361</td>\n",
              "      <td>40.760460</td>\n",
              "      <td>-73.955055</td>\n",
              "      <td>40.777298</td>\n",
              "      <td>N</td>\n",
              "      <td>Sunday</td>\n",
              "      <td>23</td>\n",
              "      <td>2.140662</td>\n",
              "      <td>5</td>\n",
              "    </tr>\n",
              "    <tr>\n",
              "      <th>887060</th>\n",
              "      <td>2</td>\n",
              "      <td>1</td>\n",
              "      <td>-73.976639</td>\n",
              "      <td>40.743713</td>\n",
              "      <td>-73.981789</td>\n",
              "      <td>40.720963</td>\n",
              "      <td>N</td>\n",
              "      <td>Friday</td>\n",
              "      <td>23</td>\n",
              "      <td>2.567530</td>\n",
              "      <td>5</td>\n",
              "    </tr>\n",
              "  </tbody>\n",
              "</table>\n",
              "</div>"
            ],
            "text/plain": [
              "         vendor_id  passenger_count  ...  distance  month\n",
              "74271            1                1  ...  1.814317      3\n",
              "484810           2                1  ...  1.141806      1\n",
              "366156           2                2  ...  2.410400      1\n",
              "1249224          1                1  ...  2.140662      5\n",
              "887060           2                1  ...  2.567530      5\n",
              "\n",
              "[5 rows x 11 columns]"
            ]
          },
          "metadata": {
            "tags": []
          },
          "execution_count": 18
        }
      ]
    },
    {
      "cell_type": "markdown",
      "metadata": {
        "id": "BpOOyZ9aJQCG"
      },
      "source": [
        "### Dummy encoding for nominal variables"
      ]
    },
    {
      "cell_type": "code",
      "metadata": {
        "id": "KKcL63ynJQCH"
      },
      "source": [
        "# encode the training set\n",
        "vendor_encode1 = pd.get_dummies(X_train['vendor_id'], prefix='vendor')\n",
        "passenger_cnt_encode1 = pd.get_dummies(X_train['passenger_count'], prefix='passenger')\n",
        "sf_flag_encode1 = pd.get_dummies(X_train['store_and_fwd_flag'], prefix='flag')\n",
        "weekday_encode1 = pd.get_dummies(X_train['day_of_week'], prefix='weekday')\n",
        "hour_encode1 = pd.get_dummies(X_train['day_of_hour'], prefix='hour')\n",
        "month_encode1 = pd.get_dummies(X_train['month'], prefix='month')"
      ],
      "execution_count": 74,
      "outputs": []
    },
    {
      "cell_type": "code",
      "metadata": {
        "id": "6JUBrbpNJQCH"
      },
      "source": [
        "# encode the test set\n",
        "vendor_encode2 = pd.get_dummies(X_test['vendor_id'], prefix='vendor')\n",
        "passenger_cnt_encode2 = pd.get_dummies(X_test['passenger_count'], prefix='passenger')\n",
        "sf_flag_encode2 = pd.get_dummies(X_test['store_and_fwd_flag'], prefix='flag')\n",
        "weekday_encode2 = pd.get_dummies(X_test['day_of_week'], prefix='weekday')\n",
        "hour_encode2 = pd.get_dummies(X_test['day_of_hour'], prefix='hour')\n",
        "month_encode2 = pd.get_dummies(X_test['month'], prefix='month')"
      ],
      "execution_count": 75,
      "outputs": []
    },
    {
      "cell_type": "code",
      "metadata": {
        "id": "TnjAhDugJQCI",
        "outputId": "f29c44bb-f362-4cc9-f913-9ba133632c0b"
      },
      "source": [
        "passenger_cnt_encode1.shape, passenger_cnt_encode2.shape"
      ],
      "execution_count": null,
      "outputs": [
        {
          "output_type": "execute_result",
          "data": {
            "text/plain": [
              "((1021050, 9), (437594, 9))"
            ]
          },
          "metadata": {
            "tags": []
          },
          "execution_count": 124
        }
      ]
    },
    {
      "cell_type": "code",
      "metadata": {
        "colab": {
          "base_uri": "https://localhost:8080/",
          "height": 224
        },
        "id": "l0Bg82idJQCL",
        "outputId": "930aaabb-c640-457f-e949-2c8e6b4da76b"
      },
      "source": [
        "numeric_train = X_train['distance']\n",
        "X_train = pd.concat([vendor_encode1,passenger_cnt_encode1,sf_flag_encode1,weekday_encode1,hour_encode1,\\\n",
        "                     month_encode1, numeric_train], axis=1)\n",
        "X_train.head()"
      ],
      "execution_count": 76,
      "outputs": [
        {
          "output_type": "execute_result",
          "data": {
            "text/html": [
              "<div>\n",
              "<style scoped>\n",
              "    .dataframe tbody tr th:only-of-type {\n",
              "        vertical-align: middle;\n",
              "    }\n",
              "\n",
              "    .dataframe tbody tr th {\n",
              "        vertical-align: top;\n",
              "    }\n",
              "\n",
              "    .dataframe thead th {\n",
              "        text-align: right;\n",
              "    }\n",
              "</style>\n",
              "<table border=\"1\" class=\"dataframe\">\n",
              "  <thead>\n",
              "    <tr style=\"text-align: right;\">\n",
              "      <th></th>\n",
              "      <th>vendor_1</th>\n",
              "      <th>vendor_2</th>\n",
              "      <th>passenger_0</th>\n",
              "      <th>passenger_1</th>\n",
              "      <th>passenger_2</th>\n",
              "      <th>passenger_3</th>\n",
              "      <th>passenger_4</th>\n",
              "      <th>passenger_5</th>\n",
              "      <th>passenger_6</th>\n",
              "      <th>passenger_7</th>\n",
              "      <th>passenger_9</th>\n",
              "      <th>flag_N</th>\n",
              "      <th>flag_Y</th>\n",
              "      <th>weekday_Friday</th>\n",
              "      <th>weekday_Monday</th>\n",
              "      <th>weekday_Saturday</th>\n",
              "      <th>weekday_Sunday</th>\n",
              "      <th>weekday_Thursday</th>\n",
              "      <th>weekday_Tuesday</th>\n",
              "      <th>weekday_Wednesday</th>\n",
              "      <th>hour_0</th>\n",
              "      <th>hour_1</th>\n",
              "      <th>hour_2</th>\n",
              "      <th>hour_3</th>\n",
              "      <th>hour_4</th>\n",
              "      <th>hour_5</th>\n",
              "      <th>hour_6</th>\n",
              "      <th>hour_7</th>\n",
              "      <th>hour_8</th>\n",
              "      <th>hour_9</th>\n",
              "      <th>hour_10</th>\n",
              "      <th>hour_11</th>\n",
              "      <th>hour_12</th>\n",
              "      <th>hour_13</th>\n",
              "      <th>hour_14</th>\n",
              "      <th>hour_15</th>\n",
              "      <th>hour_16</th>\n",
              "      <th>hour_17</th>\n",
              "      <th>hour_18</th>\n",
              "      <th>hour_19</th>\n",
              "      <th>hour_20</th>\n",
              "      <th>hour_21</th>\n",
              "      <th>hour_22</th>\n",
              "      <th>hour_23</th>\n",
              "      <th>month_1</th>\n",
              "      <th>month_2</th>\n",
              "      <th>month_3</th>\n",
              "      <th>month_4</th>\n",
              "      <th>month_5</th>\n",
              "      <th>month_6</th>\n",
              "      <th>distance</th>\n",
              "    </tr>\n",
              "  </thead>\n",
              "  <tbody>\n",
              "    <tr>\n",
              "      <th>1068211</th>\n",
              "      <td>0</td>\n",
              "      <td>1</td>\n",
              "      <td>0</td>\n",
              "      <td>1</td>\n",
              "      <td>0</td>\n",
              "      <td>0</td>\n",
              "      <td>0</td>\n",
              "      <td>0</td>\n",
              "      <td>0</td>\n",
              "      <td>0</td>\n",
              "      <td>0</td>\n",
              "      <td>1</td>\n",
              "      <td>0</td>\n",
              "      <td>0</td>\n",
              "      <td>0</td>\n",
              "      <td>0</td>\n",
              "      <td>0</td>\n",
              "      <td>0</td>\n",
              "      <td>1</td>\n",
              "      <td>0</td>\n",
              "      <td>0</td>\n",
              "      <td>0</td>\n",
              "      <td>0</td>\n",
              "      <td>0</td>\n",
              "      <td>0</td>\n",
              "      <td>0</td>\n",
              "      <td>0</td>\n",
              "      <td>0</td>\n",
              "      <td>0</td>\n",
              "      <td>0</td>\n",
              "      <td>0</td>\n",
              "      <td>0</td>\n",
              "      <td>0</td>\n",
              "      <td>0</td>\n",
              "      <td>0</td>\n",
              "      <td>0</td>\n",
              "      <td>0</td>\n",
              "      <td>1</td>\n",
              "      <td>0</td>\n",
              "      <td>0</td>\n",
              "      <td>0</td>\n",
              "      <td>0</td>\n",
              "      <td>0</td>\n",
              "      <td>0</td>\n",
              "      <td>0</td>\n",
              "      <td>0</td>\n",
              "      <td>0</td>\n",
              "      <td>1</td>\n",
              "      <td>0</td>\n",
              "      <td>0</td>\n",
              "      <td>1.038851</td>\n",
              "    </tr>\n",
              "    <tr>\n",
              "      <th>339366</th>\n",
              "      <td>0</td>\n",
              "      <td>1</td>\n",
              "      <td>0</td>\n",
              "      <td>1</td>\n",
              "      <td>0</td>\n",
              "      <td>0</td>\n",
              "      <td>0</td>\n",
              "      <td>0</td>\n",
              "      <td>0</td>\n",
              "      <td>0</td>\n",
              "      <td>0</td>\n",
              "      <td>1</td>\n",
              "      <td>0</td>\n",
              "      <td>0</td>\n",
              "      <td>0</td>\n",
              "      <td>0</td>\n",
              "      <td>0</td>\n",
              "      <td>0</td>\n",
              "      <td>0</td>\n",
              "      <td>1</td>\n",
              "      <td>0</td>\n",
              "      <td>0</td>\n",
              "      <td>0</td>\n",
              "      <td>0</td>\n",
              "      <td>0</td>\n",
              "      <td>0</td>\n",
              "      <td>0</td>\n",
              "      <td>0</td>\n",
              "      <td>0</td>\n",
              "      <td>0</td>\n",
              "      <td>0</td>\n",
              "      <td>0</td>\n",
              "      <td>0</td>\n",
              "      <td>0</td>\n",
              "      <td>1</td>\n",
              "      <td>0</td>\n",
              "      <td>0</td>\n",
              "      <td>0</td>\n",
              "      <td>0</td>\n",
              "      <td>0</td>\n",
              "      <td>0</td>\n",
              "      <td>0</td>\n",
              "      <td>0</td>\n",
              "      <td>0</td>\n",
              "      <td>0</td>\n",
              "      <td>0</td>\n",
              "      <td>0</td>\n",
              "      <td>0</td>\n",
              "      <td>0</td>\n",
              "      <td>1</td>\n",
              "      <td>2.880265</td>\n",
              "    </tr>\n",
              "    <tr>\n",
              "      <th>1091688</th>\n",
              "      <td>1</td>\n",
              "      <td>0</td>\n",
              "      <td>0</td>\n",
              "      <td>1</td>\n",
              "      <td>0</td>\n",
              "      <td>0</td>\n",
              "      <td>0</td>\n",
              "      <td>0</td>\n",
              "      <td>0</td>\n",
              "      <td>0</td>\n",
              "      <td>0</td>\n",
              "      <td>1</td>\n",
              "      <td>0</td>\n",
              "      <td>0</td>\n",
              "      <td>0</td>\n",
              "      <td>0</td>\n",
              "      <td>0</td>\n",
              "      <td>0</td>\n",
              "      <td>1</td>\n",
              "      <td>0</td>\n",
              "      <td>0</td>\n",
              "      <td>0</td>\n",
              "      <td>0</td>\n",
              "      <td>0</td>\n",
              "      <td>0</td>\n",
              "      <td>0</td>\n",
              "      <td>0</td>\n",
              "      <td>0</td>\n",
              "      <td>0</td>\n",
              "      <td>0</td>\n",
              "      <td>0</td>\n",
              "      <td>0</td>\n",
              "      <td>0</td>\n",
              "      <td>0</td>\n",
              "      <td>0</td>\n",
              "      <td>0</td>\n",
              "      <td>0</td>\n",
              "      <td>0</td>\n",
              "      <td>0</td>\n",
              "      <td>0</td>\n",
              "      <td>1</td>\n",
              "      <td>0</td>\n",
              "      <td>0</td>\n",
              "      <td>0</td>\n",
              "      <td>0</td>\n",
              "      <td>0</td>\n",
              "      <td>0</td>\n",
              "      <td>1</td>\n",
              "      <td>0</td>\n",
              "      <td>0</td>\n",
              "      <td>2.704341</td>\n",
              "    </tr>\n",
              "    <tr>\n",
              "      <th>769938</th>\n",
              "      <td>1</td>\n",
              "      <td>0</td>\n",
              "      <td>0</td>\n",
              "      <td>1</td>\n",
              "      <td>0</td>\n",
              "      <td>0</td>\n",
              "      <td>0</td>\n",
              "      <td>0</td>\n",
              "      <td>0</td>\n",
              "      <td>0</td>\n",
              "      <td>0</td>\n",
              "      <td>1</td>\n",
              "      <td>0</td>\n",
              "      <td>0</td>\n",
              "      <td>0</td>\n",
              "      <td>0</td>\n",
              "      <td>0</td>\n",
              "      <td>1</td>\n",
              "      <td>0</td>\n",
              "      <td>0</td>\n",
              "      <td>0</td>\n",
              "      <td>0</td>\n",
              "      <td>0</td>\n",
              "      <td>0</td>\n",
              "      <td>0</td>\n",
              "      <td>0</td>\n",
              "      <td>0</td>\n",
              "      <td>0</td>\n",
              "      <td>0</td>\n",
              "      <td>0</td>\n",
              "      <td>0</td>\n",
              "      <td>0</td>\n",
              "      <td>0</td>\n",
              "      <td>0</td>\n",
              "      <td>1</td>\n",
              "      <td>0</td>\n",
              "      <td>0</td>\n",
              "      <td>0</td>\n",
              "      <td>0</td>\n",
              "      <td>0</td>\n",
              "      <td>0</td>\n",
              "      <td>0</td>\n",
              "      <td>0</td>\n",
              "      <td>0</td>\n",
              "      <td>0</td>\n",
              "      <td>0</td>\n",
              "      <td>0</td>\n",
              "      <td>1</td>\n",
              "      <td>0</td>\n",
              "      <td>0</td>\n",
              "      <td>0.816621</td>\n",
              "    </tr>\n",
              "    <tr>\n",
              "      <th>698986</th>\n",
              "      <td>1</td>\n",
              "      <td>0</td>\n",
              "      <td>0</td>\n",
              "      <td>1</td>\n",
              "      <td>0</td>\n",
              "      <td>0</td>\n",
              "      <td>0</td>\n",
              "      <td>0</td>\n",
              "      <td>0</td>\n",
              "      <td>0</td>\n",
              "      <td>0</td>\n",
              "      <td>1</td>\n",
              "      <td>0</td>\n",
              "      <td>0</td>\n",
              "      <td>1</td>\n",
              "      <td>0</td>\n",
              "      <td>0</td>\n",
              "      <td>0</td>\n",
              "      <td>0</td>\n",
              "      <td>0</td>\n",
              "      <td>0</td>\n",
              "      <td>0</td>\n",
              "      <td>0</td>\n",
              "      <td>0</td>\n",
              "      <td>0</td>\n",
              "      <td>0</td>\n",
              "      <td>0</td>\n",
              "      <td>0</td>\n",
              "      <td>0</td>\n",
              "      <td>0</td>\n",
              "      <td>0</td>\n",
              "      <td>0</td>\n",
              "      <td>0</td>\n",
              "      <td>0</td>\n",
              "      <td>0</td>\n",
              "      <td>0</td>\n",
              "      <td>0</td>\n",
              "      <td>0</td>\n",
              "      <td>0</td>\n",
              "      <td>0</td>\n",
              "      <td>0</td>\n",
              "      <td>1</td>\n",
              "      <td>0</td>\n",
              "      <td>0</td>\n",
              "      <td>0</td>\n",
              "      <td>0</td>\n",
              "      <td>0</td>\n",
              "      <td>0</td>\n",
              "      <td>0</td>\n",
              "      <td>1</td>\n",
              "      <td>8.346809</td>\n",
              "    </tr>\n",
              "  </tbody>\n",
              "</table>\n",
              "</div>"
            ],
            "text/plain": [
              "         vendor_1  vendor_2  passenger_0  ...  month_5  month_6  distance\n",
              "1068211         0         1            0  ...        0        0  1.038851\n",
              "339366          0         1            0  ...        0        1  2.880265\n",
              "1091688         1         0            0  ...        0        0  2.704341\n",
              "769938          1         0            0  ...        0        0  0.816621\n",
              "698986          1         0            0  ...        0        1  8.346809\n",
              "\n",
              "[5 rows x 51 columns]"
            ]
          },
          "metadata": {
            "tags": []
          },
          "execution_count": 76
        }
      ]
    },
    {
      "cell_type": "code",
      "metadata": {
        "colab": {
          "base_uri": "https://localhost:8080/"
        },
        "id": "WWEEgF8_JQCN",
        "outputId": "40781005-7d47-41dc-8355-7015150464b7"
      },
      "source": [
        "y_train"
      ],
      "execution_count": 22,
      "outputs": [
        {
          "output_type": "execute_result",
          "data": {
            "text/plain": [
              "74271      6.562444\n",
              "484810     6.246107\n",
              "366156     6.621406\n",
              "1249224    5.389072\n",
              "887060     6.075346\n",
              "             ...   \n",
              "1370057    5.707110\n",
              "303174     6.436150\n",
              "1051454    6.841615\n",
              "337794     7.471932\n",
              "1038572    6.054439\n",
              "Name: trip_duration, Length: 1021050, dtype: float64"
            ]
          },
          "metadata": {
            "tags": []
          },
          "execution_count": 22
        }
      ]
    },
    {
      "cell_type": "code",
      "metadata": {
        "colab": {
          "base_uri": "https://localhost:8080/",
          "height": 224
        },
        "id": "L3WcEjcxJQCN",
        "outputId": "e5b01b85-41ab-404c-a82b-1bef4da2d506"
      },
      "source": [
        "numeric_test = X_test['distance']\n",
        "X_test = pd.concat([vendor_encode2,passenger_cnt_encode2,sf_flag_encode2,weekday_encode2,hour_encode2,\\\n",
        "                     month_encode2, numeric_test], axis=1)\n",
        "X_test.head()"
      ],
      "execution_count": 77,
      "outputs": [
        {
          "output_type": "execute_result",
          "data": {
            "text/html": [
              "<div>\n",
              "<style scoped>\n",
              "    .dataframe tbody tr th:only-of-type {\n",
              "        vertical-align: middle;\n",
              "    }\n",
              "\n",
              "    .dataframe tbody tr th {\n",
              "        vertical-align: top;\n",
              "    }\n",
              "\n",
              "    .dataframe thead th {\n",
              "        text-align: right;\n",
              "    }\n",
              "</style>\n",
              "<table border=\"1\" class=\"dataframe\">\n",
              "  <thead>\n",
              "    <tr style=\"text-align: right;\">\n",
              "      <th></th>\n",
              "      <th>vendor_1</th>\n",
              "      <th>vendor_2</th>\n",
              "      <th>passenger_0</th>\n",
              "      <th>passenger_1</th>\n",
              "      <th>passenger_2</th>\n",
              "      <th>passenger_3</th>\n",
              "      <th>passenger_4</th>\n",
              "      <th>passenger_5</th>\n",
              "      <th>passenger_6</th>\n",
              "      <th>flag_N</th>\n",
              "      <th>flag_Y</th>\n",
              "      <th>weekday_Friday</th>\n",
              "      <th>weekday_Monday</th>\n",
              "      <th>weekday_Saturday</th>\n",
              "      <th>weekday_Sunday</th>\n",
              "      <th>weekday_Thursday</th>\n",
              "      <th>weekday_Tuesday</th>\n",
              "      <th>weekday_Wednesday</th>\n",
              "      <th>hour_0</th>\n",
              "      <th>hour_1</th>\n",
              "      <th>hour_2</th>\n",
              "      <th>hour_3</th>\n",
              "      <th>hour_4</th>\n",
              "      <th>hour_5</th>\n",
              "      <th>hour_6</th>\n",
              "      <th>hour_7</th>\n",
              "      <th>hour_8</th>\n",
              "      <th>hour_9</th>\n",
              "      <th>hour_10</th>\n",
              "      <th>hour_11</th>\n",
              "      <th>hour_12</th>\n",
              "      <th>hour_13</th>\n",
              "      <th>hour_14</th>\n",
              "      <th>hour_15</th>\n",
              "      <th>hour_16</th>\n",
              "      <th>hour_17</th>\n",
              "      <th>hour_18</th>\n",
              "      <th>hour_19</th>\n",
              "      <th>hour_20</th>\n",
              "      <th>hour_21</th>\n",
              "      <th>hour_22</th>\n",
              "      <th>hour_23</th>\n",
              "      <th>month_1</th>\n",
              "      <th>month_2</th>\n",
              "      <th>month_3</th>\n",
              "      <th>month_4</th>\n",
              "      <th>month_5</th>\n",
              "      <th>month_6</th>\n",
              "      <th>distance</th>\n",
              "    </tr>\n",
              "  </thead>\n",
              "  <tbody>\n",
              "    <tr>\n",
              "      <th>490159</th>\n",
              "      <td>0</td>\n",
              "      <td>1</td>\n",
              "      <td>0</td>\n",
              "      <td>1</td>\n",
              "      <td>0</td>\n",
              "      <td>0</td>\n",
              "      <td>0</td>\n",
              "      <td>0</td>\n",
              "      <td>0</td>\n",
              "      <td>1</td>\n",
              "      <td>0</td>\n",
              "      <td>0</td>\n",
              "      <td>1</td>\n",
              "      <td>0</td>\n",
              "      <td>0</td>\n",
              "      <td>0</td>\n",
              "      <td>0</td>\n",
              "      <td>0</td>\n",
              "      <td>0</td>\n",
              "      <td>0</td>\n",
              "      <td>0</td>\n",
              "      <td>0</td>\n",
              "      <td>0</td>\n",
              "      <td>0</td>\n",
              "      <td>0</td>\n",
              "      <td>0</td>\n",
              "      <td>0</td>\n",
              "      <td>0</td>\n",
              "      <td>0</td>\n",
              "      <td>0</td>\n",
              "      <td>0</td>\n",
              "      <td>0</td>\n",
              "      <td>0</td>\n",
              "      <td>0</td>\n",
              "      <td>0</td>\n",
              "      <td>0</td>\n",
              "      <td>0</td>\n",
              "      <td>0</td>\n",
              "      <td>0</td>\n",
              "      <td>1</td>\n",
              "      <td>0</td>\n",
              "      <td>0</td>\n",
              "      <td>0</td>\n",
              "      <td>0</td>\n",
              "      <td>0</td>\n",
              "      <td>1</td>\n",
              "      <td>0</td>\n",
              "      <td>0</td>\n",
              "      <td>0.464414</td>\n",
              "    </tr>\n",
              "    <tr>\n",
              "      <th>1256968</th>\n",
              "      <td>0</td>\n",
              "      <td>1</td>\n",
              "      <td>0</td>\n",
              "      <td>1</td>\n",
              "      <td>0</td>\n",
              "      <td>0</td>\n",
              "      <td>0</td>\n",
              "      <td>0</td>\n",
              "      <td>0</td>\n",
              "      <td>1</td>\n",
              "      <td>0</td>\n",
              "      <td>0</td>\n",
              "      <td>1</td>\n",
              "      <td>0</td>\n",
              "      <td>0</td>\n",
              "      <td>0</td>\n",
              "      <td>0</td>\n",
              "      <td>0</td>\n",
              "      <td>0</td>\n",
              "      <td>0</td>\n",
              "      <td>0</td>\n",
              "      <td>0</td>\n",
              "      <td>0</td>\n",
              "      <td>0</td>\n",
              "      <td>0</td>\n",
              "      <td>1</td>\n",
              "      <td>0</td>\n",
              "      <td>0</td>\n",
              "      <td>0</td>\n",
              "      <td>0</td>\n",
              "      <td>0</td>\n",
              "      <td>0</td>\n",
              "      <td>0</td>\n",
              "      <td>0</td>\n",
              "      <td>0</td>\n",
              "      <td>0</td>\n",
              "      <td>0</td>\n",
              "      <td>0</td>\n",
              "      <td>0</td>\n",
              "      <td>0</td>\n",
              "      <td>0</td>\n",
              "      <td>0</td>\n",
              "      <td>0</td>\n",
              "      <td>0</td>\n",
              "      <td>0</td>\n",
              "      <td>0</td>\n",
              "      <td>1</td>\n",
              "      <td>0</td>\n",
              "      <td>3.821934</td>\n",
              "    </tr>\n",
              "    <tr>\n",
              "      <th>545130</th>\n",
              "      <td>1</td>\n",
              "      <td>0</td>\n",
              "      <td>0</td>\n",
              "      <td>1</td>\n",
              "      <td>0</td>\n",
              "      <td>0</td>\n",
              "      <td>0</td>\n",
              "      <td>0</td>\n",
              "      <td>0</td>\n",
              "      <td>1</td>\n",
              "      <td>0</td>\n",
              "      <td>0</td>\n",
              "      <td>0</td>\n",
              "      <td>0</td>\n",
              "      <td>0</td>\n",
              "      <td>0</td>\n",
              "      <td>0</td>\n",
              "      <td>1</td>\n",
              "      <td>0</td>\n",
              "      <td>0</td>\n",
              "      <td>0</td>\n",
              "      <td>0</td>\n",
              "      <td>0</td>\n",
              "      <td>0</td>\n",
              "      <td>0</td>\n",
              "      <td>0</td>\n",
              "      <td>1</td>\n",
              "      <td>0</td>\n",
              "      <td>0</td>\n",
              "      <td>0</td>\n",
              "      <td>0</td>\n",
              "      <td>0</td>\n",
              "      <td>0</td>\n",
              "      <td>0</td>\n",
              "      <td>0</td>\n",
              "      <td>0</td>\n",
              "      <td>0</td>\n",
              "      <td>0</td>\n",
              "      <td>0</td>\n",
              "      <td>0</td>\n",
              "      <td>0</td>\n",
              "      <td>0</td>\n",
              "      <td>0</td>\n",
              "      <td>0</td>\n",
              "      <td>0</td>\n",
              "      <td>1</td>\n",
              "      <td>0</td>\n",
              "      <td>0</td>\n",
              "      <td>3.923380</td>\n",
              "    </tr>\n",
              "    <tr>\n",
              "      <th>1162513</th>\n",
              "      <td>1</td>\n",
              "      <td>0</td>\n",
              "      <td>0</td>\n",
              "      <td>1</td>\n",
              "      <td>0</td>\n",
              "      <td>0</td>\n",
              "      <td>0</td>\n",
              "      <td>0</td>\n",
              "      <td>0</td>\n",
              "      <td>1</td>\n",
              "      <td>0</td>\n",
              "      <td>0</td>\n",
              "      <td>0</td>\n",
              "      <td>1</td>\n",
              "      <td>0</td>\n",
              "      <td>0</td>\n",
              "      <td>0</td>\n",
              "      <td>0</td>\n",
              "      <td>0</td>\n",
              "      <td>0</td>\n",
              "      <td>0</td>\n",
              "      <td>0</td>\n",
              "      <td>0</td>\n",
              "      <td>0</td>\n",
              "      <td>0</td>\n",
              "      <td>0</td>\n",
              "      <td>0</td>\n",
              "      <td>0</td>\n",
              "      <td>0</td>\n",
              "      <td>0</td>\n",
              "      <td>0</td>\n",
              "      <td>0</td>\n",
              "      <td>0</td>\n",
              "      <td>0</td>\n",
              "      <td>0</td>\n",
              "      <td>0</td>\n",
              "      <td>0</td>\n",
              "      <td>0</td>\n",
              "      <td>0</td>\n",
              "      <td>0</td>\n",
              "      <td>0</td>\n",
              "      <td>1</td>\n",
              "      <td>0</td>\n",
              "      <td>0</td>\n",
              "      <td>0</td>\n",
              "      <td>0</td>\n",
              "      <td>1</td>\n",
              "      <td>0</td>\n",
              "      <td>24.654554</td>\n",
              "    </tr>\n",
              "    <tr>\n",
              "      <th>319571</th>\n",
              "      <td>0</td>\n",
              "      <td>1</td>\n",
              "      <td>0</td>\n",
              "      <td>1</td>\n",
              "      <td>0</td>\n",
              "      <td>0</td>\n",
              "      <td>0</td>\n",
              "      <td>0</td>\n",
              "      <td>0</td>\n",
              "      <td>1</td>\n",
              "      <td>0</td>\n",
              "      <td>0</td>\n",
              "      <td>0</td>\n",
              "      <td>0</td>\n",
              "      <td>0</td>\n",
              "      <td>0</td>\n",
              "      <td>0</td>\n",
              "      <td>1</td>\n",
              "      <td>0</td>\n",
              "      <td>0</td>\n",
              "      <td>0</td>\n",
              "      <td>0</td>\n",
              "      <td>0</td>\n",
              "      <td>0</td>\n",
              "      <td>0</td>\n",
              "      <td>0</td>\n",
              "      <td>0</td>\n",
              "      <td>0</td>\n",
              "      <td>0</td>\n",
              "      <td>0</td>\n",
              "      <td>1</td>\n",
              "      <td>0</td>\n",
              "      <td>0</td>\n",
              "      <td>0</td>\n",
              "      <td>0</td>\n",
              "      <td>0</td>\n",
              "      <td>0</td>\n",
              "      <td>0</td>\n",
              "      <td>0</td>\n",
              "      <td>0</td>\n",
              "      <td>0</td>\n",
              "      <td>0</td>\n",
              "      <td>0</td>\n",
              "      <td>0</td>\n",
              "      <td>0</td>\n",
              "      <td>1</td>\n",
              "      <td>0</td>\n",
              "      <td>0</td>\n",
              "      <td>2.982939</td>\n",
              "    </tr>\n",
              "  </tbody>\n",
              "</table>\n",
              "</div>"
            ],
            "text/plain": [
              "         vendor_1  vendor_2  passenger_0  ...  month_5  month_6   distance\n",
              "490159          0         1            0  ...        0        0   0.464414\n",
              "1256968         0         1            0  ...        1        0   3.821934\n",
              "545130          1         0            0  ...        0        0   3.923380\n",
              "1162513         1         0            0  ...        1        0  24.654554\n",
              "319571          0         1            0  ...        0        0   2.982939\n",
              "\n",
              "[5 rows x 49 columns]"
            ]
          },
          "metadata": {
            "tags": []
          },
          "execution_count": 77
        }
      ]
    },
    {
      "cell_type": "code",
      "metadata": {
        "id": "lsQ0LQ42JQCO"
      },
      "source": [
        "X_train['distance'].describe()"
      ],
      "execution_count": null,
      "outputs": []
    },
    {
      "cell_type": "code",
      "metadata": {
        "colab": {
          "base_uri": "https://localhost:8080/",
          "height": 224
        },
        "id": "WbYiqYQuJQCO",
        "outputId": "242af917-222d-42c4-d34e-588c19b15f8c"
      },
      "source": [
        "# standardize the numeric variable \"distance\"\n",
        "X_train['distance'] = (X_train['distance'] - X_train['distance'].mean())/X_train['distance'].std()\n",
        "X_test['distance'] = (X_test['distance'] - X_test['distance'].mean())/X_test['distance'].std()\n",
        "X_train.head()"
      ],
      "execution_count": 78,
      "outputs": [
        {
          "output_type": "execute_result",
          "data": {
            "text/html": [
              "<div>\n",
              "<style scoped>\n",
              "    .dataframe tbody tr th:only-of-type {\n",
              "        vertical-align: middle;\n",
              "    }\n",
              "\n",
              "    .dataframe tbody tr th {\n",
              "        vertical-align: top;\n",
              "    }\n",
              "\n",
              "    .dataframe thead th {\n",
              "        text-align: right;\n",
              "    }\n",
              "</style>\n",
              "<table border=\"1\" class=\"dataframe\">\n",
              "  <thead>\n",
              "    <tr style=\"text-align: right;\">\n",
              "      <th></th>\n",
              "      <th>vendor_1</th>\n",
              "      <th>vendor_2</th>\n",
              "      <th>passenger_0</th>\n",
              "      <th>passenger_1</th>\n",
              "      <th>passenger_2</th>\n",
              "      <th>passenger_3</th>\n",
              "      <th>passenger_4</th>\n",
              "      <th>passenger_5</th>\n",
              "      <th>passenger_6</th>\n",
              "      <th>passenger_7</th>\n",
              "      <th>passenger_9</th>\n",
              "      <th>flag_N</th>\n",
              "      <th>flag_Y</th>\n",
              "      <th>weekday_Friday</th>\n",
              "      <th>weekday_Monday</th>\n",
              "      <th>weekday_Saturday</th>\n",
              "      <th>weekday_Sunday</th>\n",
              "      <th>weekday_Thursday</th>\n",
              "      <th>weekday_Tuesday</th>\n",
              "      <th>weekday_Wednesday</th>\n",
              "      <th>hour_0</th>\n",
              "      <th>hour_1</th>\n",
              "      <th>hour_2</th>\n",
              "      <th>hour_3</th>\n",
              "      <th>hour_4</th>\n",
              "      <th>hour_5</th>\n",
              "      <th>hour_6</th>\n",
              "      <th>hour_7</th>\n",
              "      <th>hour_8</th>\n",
              "      <th>hour_9</th>\n",
              "      <th>hour_10</th>\n",
              "      <th>hour_11</th>\n",
              "      <th>hour_12</th>\n",
              "      <th>hour_13</th>\n",
              "      <th>hour_14</th>\n",
              "      <th>hour_15</th>\n",
              "      <th>hour_16</th>\n",
              "      <th>hour_17</th>\n",
              "      <th>hour_18</th>\n",
              "      <th>hour_19</th>\n",
              "      <th>hour_20</th>\n",
              "      <th>hour_21</th>\n",
              "      <th>hour_22</th>\n",
              "      <th>hour_23</th>\n",
              "      <th>month_1</th>\n",
              "      <th>month_2</th>\n",
              "      <th>month_3</th>\n",
              "      <th>month_4</th>\n",
              "      <th>month_5</th>\n",
              "      <th>month_6</th>\n",
              "      <th>distance</th>\n",
              "    </tr>\n",
              "  </thead>\n",
              "  <tbody>\n",
              "    <tr>\n",
              "      <th>1068211</th>\n",
              "      <td>0</td>\n",
              "      <td>1</td>\n",
              "      <td>0</td>\n",
              "      <td>1</td>\n",
              "      <td>0</td>\n",
              "      <td>0</td>\n",
              "      <td>0</td>\n",
              "      <td>0</td>\n",
              "      <td>0</td>\n",
              "      <td>0</td>\n",
              "      <td>0</td>\n",
              "      <td>1</td>\n",
              "      <td>0</td>\n",
              "      <td>0</td>\n",
              "      <td>0</td>\n",
              "      <td>0</td>\n",
              "      <td>0</td>\n",
              "      <td>0</td>\n",
              "      <td>1</td>\n",
              "      <td>0</td>\n",
              "      <td>0</td>\n",
              "      <td>0</td>\n",
              "      <td>0</td>\n",
              "      <td>0</td>\n",
              "      <td>0</td>\n",
              "      <td>0</td>\n",
              "      <td>0</td>\n",
              "      <td>0</td>\n",
              "      <td>0</td>\n",
              "      <td>0</td>\n",
              "      <td>0</td>\n",
              "      <td>0</td>\n",
              "      <td>0</td>\n",
              "      <td>0</td>\n",
              "      <td>0</td>\n",
              "      <td>0</td>\n",
              "      <td>0</td>\n",
              "      <td>1</td>\n",
              "      <td>0</td>\n",
              "      <td>0</td>\n",
              "      <td>0</td>\n",
              "      <td>0</td>\n",
              "      <td>0</td>\n",
              "      <td>0</td>\n",
              "      <td>0</td>\n",
              "      <td>0</td>\n",
              "      <td>0</td>\n",
              "      <td>1</td>\n",
              "      <td>0</td>\n",
              "      <td>0</td>\n",
              "      <td>-0.591152</td>\n",
              "    </tr>\n",
              "    <tr>\n",
              "      <th>339366</th>\n",
              "      <td>0</td>\n",
              "      <td>1</td>\n",
              "      <td>0</td>\n",
              "      <td>1</td>\n",
              "      <td>0</td>\n",
              "      <td>0</td>\n",
              "      <td>0</td>\n",
              "      <td>0</td>\n",
              "      <td>0</td>\n",
              "      <td>0</td>\n",
              "      <td>0</td>\n",
              "      <td>1</td>\n",
              "      <td>0</td>\n",
              "      <td>0</td>\n",
              "      <td>0</td>\n",
              "      <td>0</td>\n",
              "      <td>0</td>\n",
              "      <td>0</td>\n",
              "      <td>0</td>\n",
              "      <td>1</td>\n",
              "      <td>0</td>\n",
              "      <td>0</td>\n",
              "      <td>0</td>\n",
              "      <td>0</td>\n",
              "      <td>0</td>\n",
              "      <td>0</td>\n",
              "      <td>0</td>\n",
              "      <td>0</td>\n",
              "      <td>0</td>\n",
              "      <td>0</td>\n",
              "      <td>0</td>\n",
              "      <td>0</td>\n",
              "      <td>0</td>\n",
              "      <td>0</td>\n",
              "      <td>1</td>\n",
              "      <td>0</td>\n",
              "      <td>0</td>\n",
              "      <td>0</td>\n",
              "      <td>0</td>\n",
              "      <td>0</td>\n",
              "      <td>0</td>\n",
              "      <td>0</td>\n",
              "      <td>0</td>\n",
              "      <td>0</td>\n",
              "      <td>0</td>\n",
              "      <td>0</td>\n",
              "      <td>0</td>\n",
              "      <td>0</td>\n",
              "      <td>0</td>\n",
              "      <td>1</td>\n",
              "      <td>-0.136776</td>\n",
              "    </tr>\n",
              "    <tr>\n",
              "      <th>1091688</th>\n",
              "      <td>1</td>\n",
              "      <td>0</td>\n",
              "      <td>0</td>\n",
              "      <td>1</td>\n",
              "      <td>0</td>\n",
              "      <td>0</td>\n",
              "      <td>0</td>\n",
              "      <td>0</td>\n",
              "      <td>0</td>\n",
              "      <td>0</td>\n",
              "      <td>0</td>\n",
              "      <td>1</td>\n",
              "      <td>0</td>\n",
              "      <td>0</td>\n",
              "      <td>0</td>\n",
              "      <td>0</td>\n",
              "      <td>0</td>\n",
              "      <td>0</td>\n",
              "      <td>1</td>\n",
              "      <td>0</td>\n",
              "      <td>0</td>\n",
              "      <td>0</td>\n",
              "      <td>0</td>\n",
              "      <td>0</td>\n",
              "      <td>0</td>\n",
              "      <td>0</td>\n",
              "      <td>0</td>\n",
              "      <td>0</td>\n",
              "      <td>0</td>\n",
              "      <td>0</td>\n",
              "      <td>0</td>\n",
              "      <td>0</td>\n",
              "      <td>0</td>\n",
              "      <td>0</td>\n",
              "      <td>0</td>\n",
              "      <td>0</td>\n",
              "      <td>0</td>\n",
              "      <td>0</td>\n",
              "      <td>0</td>\n",
              "      <td>0</td>\n",
              "      <td>1</td>\n",
              "      <td>0</td>\n",
              "      <td>0</td>\n",
              "      <td>0</td>\n",
              "      <td>0</td>\n",
              "      <td>0</td>\n",
              "      <td>0</td>\n",
              "      <td>1</td>\n",
              "      <td>0</td>\n",
              "      <td>0</td>\n",
              "      <td>-0.180185</td>\n",
              "    </tr>\n",
              "    <tr>\n",
              "      <th>769938</th>\n",
              "      <td>1</td>\n",
              "      <td>0</td>\n",
              "      <td>0</td>\n",
              "      <td>1</td>\n",
              "      <td>0</td>\n",
              "      <td>0</td>\n",
              "      <td>0</td>\n",
              "      <td>0</td>\n",
              "      <td>0</td>\n",
              "      <td>0</td>\n",
              "      <td>0</td>\n",
              "      <td>1</td>\n",
              "      <td>0</td>\n",
              "      <td>0</td>\n",
              "      <td>0</td>\n",
              "      <td>0</td>\n",
              "      <td>0</td>\n",
              "      <td>1</td>\n",
              "      <td>0</td>\n",
              "      <td>0</td>\n",
              "      <td>0</td>\n",
              "      <td>0</td>\n",
              "      <td>0</td>\n",
              "      <td>0</td>\n",
              "      <td>0</td>\n",
              "      <td>0</td>\n",
              "      <td>0</td>\n",
              "      <td>0</td>\n",
              "      <td>0</td>\n",
              "      <td>0</td>\n",
              "      <td>0</td>\n",
              "      <td>0</td>\n",
              "      <td>0</td>\n",
              "      <td>0</td>\n",
              "      <td>1</td>\n",
              "      <td>0</td>\n",
              "      <td>0</td>\n",
              "      <td>0</td>\n",
              "      <td>0</td>\n",
              "      <td>0</td>\n",
              "      <td>0</td>\n",
              "      <td>0</td>\n",
              "      <td>0</td>\n",
              "      <td>0</td>\n",
              "      <td>0</td>\n",
              "      <td>0</td>\n",
              "      <td>0</td>\n",
              "      <td>1</td>\n",
              "      <td>0</td>\n",
              "      <td>0</td>\n",
              "      <td>-0.645988</td>\n",
              "    </tr>\n",
              "    <tr>\n",
              "      <th>698986</th>\n",
              "      <td>1</td>\n",
              "      <td>0</td>\n",
              "      <td>0</td>\n",
              "      <td>1</td>\n",
              "      <td>0</td>\n",
              "      <td>0</td>\n",
              "      <td>0</td>\n",
              "      <td>0</td>\n",
              "      <td>0</td>\n",
              "      <td>0</td>\n",
              "      <td>0</td>\n",
              "      <td>1</td>\n",
              "      <td>0</td>\n",
              "      <td>0</td>\n",
              "      <td>1</td>\n",
              "      <td>0</td>\n",
              "      <td>0</td>\n",
              "      <td>0</td>\n",
              "      <td>0</td>\n",
              "      <td>0</td>\n",
              "      <td>0</td>\n",
              "      <td>0</td>\n",
              "      <td>0</td>\n",
              "      <td>0</td>\n",
              "      <td>0</td>\n",
              "      <td>0</td>\n",
              "      <td>0</td>\n",
              "      <td>0</td>\n",
              "      <td>0</td>\n",
              "      <td>0</td>\n",
              "      <td>0</td>\n",
              "      <td>0</td>\n",
              "      <td>0</td>\n",
              "      <td>0</td>\n",
              "      <td>0</td>\n",
              "      <td>0</td>\n",
              "      <td>0</td>\n",
              "      <td>0</td>\n",
              "      <td>0</td>\n",
              "      <td>0</td>\n",
              "      <td>0</td>\n",
              "      <td>1</td>\n",
              "      <td>0</td>\n",
              "      <td>0</td>\n",
              "      <td>0</td>\n",
              "      <td>0</td>\n",
              "      <td>0</td>\n",
              "      <td>0</td>\n",
              "      <td>0</td>\n",
              "      <td>1</td>\n",
              "      <td>1.212117</td>\n",
              "    </tr>\n",
              "  </tbody>\n",
              "</table>\n",
              "</div>"
            ],
            "text/plain": [
              "         vendor_1  vendor_2  passenger_0  ...  month_5  month_6  distance\n",
              "1068211         0         1            0  ...        0        0 -0.591152\n",
              "339366          0         1            0  ...        0        1 -0.136776\n",
              "1091688         1         0            0  ...        0        0 -0.180185\n",
              "769938          1         0            0  ...        0        0 -0.645988\n",
              "698986          1         0            0  ...        0        1  1.212117\n",
              "\n",
              "[5 rows x 51 columns]"
            ]
          },
          "metadata": {
            "tags": []
          },
          "execution_count": 78
        }
      ]
    },
    {
      "cell_type": "markdown",
      "metadata": {
        "id": "_6dW7NcTJQCP"
      },
      "source": [
        "### Feature importance visualization with Random Forest regression"
      ]
    },
    {
      "cell_type": "code",
      "metadata": {
        "id": "-sCC8cNXJQCR"
      },
      "source": [
        "# Feature Importance Order Visualization for top 20 using Random Forest\n",
        "forest = RandomForestRegressor()\n",
        "forest.fit(X_train,y_train)"
      ],
      "execution_count": null,
      "outputs": []
    },
    {
      "cell_type": "code",
      "metadata": {
        "id": "epRHfImZJQCS"
      },
      "source": [
        "#plot graph of feature importances for better visualization\n",
        "plt.figure(figsize=(15,8))\n",
        "feat_importances = pd.Series(forest.feature_importances_, index=X_train.columns)\n",
        "feat_importances.nlargest(20).plot(kind='barh')\n",
        "plt.title('Top 20 Most Important Features Visualization', fontsize=15)\n",
        "plt.ylabel('Feature', fontsize=14)\n",
        "plt.show()"
      ],
      "execution_count": null,
      "outputs": []
    },
    {
      "cell_type": "markdown",
      "metadata": {
        "id": "SkSRHoYyJQCT"
      },
      "source": [
        "The top 20 most importance features are\n",
        "- distance\n",
        "- vendor type\n",
        "- which month\n",
        "- whether is single passenger\n",
        "- which weekday\n",
        "- whether is for 2 passengers\n",
        "- whether is at 6am or 3pm\n",
        "\n",
        "We decided to include those features into our models."
      ]
    },
    {
      "cell_type": "markdown",
      "metadata": {
        "id": "n6MB5KVMJQCT"
      },
      "source": [
        "### Model Building\n",
        "1. Baseline model: linear model\n",
        "2. Random forest regression\n",
        "3. SVM regression\n",
        "4. XGBoost regression\n",
        "5. Multi-Layer Perceptron"
      ]
    },
    {
      "cell_type": "code",
      "metadata": {
        "colab": {
          "base_uri": "https://localhost:8080/"
        },
        "id": "AQWB_IprJQCT",
        "outputId": "22f55955-da45-4b84-b83c-78c6d414221e"
      },
      "source": [
        "# leave only top 20 features in X_train and X_test called X_train_fi, X_test_fi\n",
        "top20_features = ['distance','vendor_1','vendor_2','month_5','month_3','month_6','month_1','month_4','month_2',\\\n",
        "                 'passenger_1','weekday_Saturday','weekday_Friday','weekday_Sunday','weekday_Tuesday','passenger_2',\\\n",
        "                 'weekday_Thursday','weekday_Monday','weekday_Wednesday','hour_6','hour_15']\n",
        "X_train_fi = X_train[top20_features]\n",
        "X_test_fi = X_test[top20_features]\n",
        "X_train_fi.columns"
      ],
      "execution_count": 79,
      "outputs": [
        {
          "output_type": "execute_result",
          "data": {
            "text/plain": [
              "Index(['distance', 'vendor_1', 'vendor_2', 'month_5', 'month_3', 'month_6',\n",
              "       'month_1', 'month_4', 'month_2', 'passenger_1', 'weekday_Saturday',\n",
              "       'weekday_Friday', 'weekday_Sunday', 'weekday_Tuesday', 'passenger_2',\n",
              "       'weekday_Thursday', 'weekday_Monday', 'weekday_Wednesday', 'hour_6',\n",
              "       'hour_15'],\n",
              "      dtype='object')"
            ]
          },
          "metadata": {
            "tags": []
          },
          "execution_count": 79
        }
      ]
    },
    {
      "cell_type": "markdown",
      "metadata": {
        "id": "vTtBJ8ardwqv"
      },
      "source": [
        "* Baseline model: Linear regression "
      ]
    },
    {
      "cell_type": "code",
      "metadata": {
        "colab": {
          "base_uri": "https://localhost:8080/"
        },
        "id": "P_HxHFgkd5CC",
        "outputId": "0ace35d8-daff-471f-e45a-981384bea0db"
      },
      "source": [
        "# define the linear regression model\n",
        "lr = linear_model.LinearRegression()\n",
        "\n",
        "# fit model\n",
        "lr.fit(X_train_fi, y_train)\n",
        "\n",
        "# predict on test data\n",
        "y_train_pred_lr = lr.predict(X_train_fi)\n",
        "y_test_pred_lr = lr.predict(X_test_fi)\n",
        "\n",
        "\n",
        "# evaluate model\n",
        "# coefficients and intercept\n",
        "print(lr.coef_)\n",
        "print(lr.intercept_)\n",
        "\n",
        "# MSE for training data and test data: compare to see if overfitting exists\n",
        "print('MSE for training data:', mean_squared_error(y_train_pred_lr, y_train))\n",
        "print('MSE for test data:', mean_squared_error(y_test_pred_lr, y_test))\n",
        "\n",
        "# r2 score: model fit\n",
        "print('R2 score:', r2_score(y_test, y_test_pred_lr))"
      ],
      "execution_count": 80,
      "outputs": [
        {
          "output_type": "stream",
          "text": [
            "[ 0.48782093 -0.00951589  0.00951589  0.04044007 -0.01821666  0.03401578\n",
            " -0.04654522  0.01985236 -0.02954633 -0.02470804 -0.03721859  0.0399463\n",
            " -0.12903479  0.03838645  0.00548978  0.07436684 -0.048645    0.0621988\n",
            " -0.36510044  0.11448885]\n",
            "6.482169744935712\n",
            "MSE for training data: 0.39489646741439566\n",
            "MSE for test data: 0.4179322616642625\n",
            "R2 score: 0.35046126562105884\n"
          ],
          "name": "stdout"
        }
      ]
    },
    {
      "cell_type": "markdown",
      "metadata": {
        "id": "8pMcRA2D8ppG"
      },
      "source": [
        "K-Fold cross validation"
      ]
    },
    {
      "cell_type": "code",
      "metadata": {
        "id": "5rLX66SfAhlF"
      },
      "source": [
        "train_data = X_train_fi.join(y_train)\n",
        "test_data = X_test_fi.join(y_test)\n",
        "data = pd.concat([train_data, test_data], axis = 0)"
      ],
      "execution_count": 81,
      "outputs": []
    },
    {
      "cell_type": "code",
      "metadata": {
        "colab": {
          "base_uri": "https://localhost:8080/"
        },
        "id": "EEWCbkfY83dg",
        "outputId": "4c3f4ea8-f72b-4b79-92f1-365ad8747135"
      },
      "source": [
        "# K-Fold cross validation: split data into training data and test data, and each split data has to be used as test data only once \n",
        "\n",
        "# define an empty MSE list for KFold cv in linear reg\n",
        "kfold_mse_lr_list = []\n",
        "print('MSE for K-fold cv in the linear regression model:')\n",
        "\n",
        "for train_id, test_id in KFold(n_splits = 5, shuffle = True, random_state = 666).split(data.index): # k = 5, 5-fold cv\n",
        "    # extract training data and test data\n",
        "    train = data.iloc[train_id,:]\n",
        "    test = data.iloc[test_id,:]\n",
        "    # define lr model\n",
        "    lr_cv = linear_model.LinearRegression()\n",
        "    # fit \n",
        "    lr_cv.fit(train.drop('trip_duration', axis = 1), train['trip_duration'])\n",
        "    # predict\n",
        "    cv_pred_lr = lr_cv.predict(test.drop('trip_duration', axis=1))\n",
        "\n",
        "    # evaluate \n",
        "    # MSE for test data\n",
        "    kfold_mse_lr = mean_squared_error(test['trip_duration'], cv_pred_lr)\n",
        "    # add each MSE to the list\n",
        "    kfold_mse_lr_list.append(kfold_mse_lr)\n",
        "\n",
        "    print(kfold_mse_lr)\n",
        "    \n",
        "print ('\\nMean of MSE for K-fold cv in linear regression:', pd.Series(kfold_mse_lr_list).mean())   "
      ],
      "execution_count": 82,
      "outputs": [
        {
          "output_type": "stream",
          "text": [
            "MSE for K-fold cv in the linear regression model:\n",
            "0.3847255913806272\n",
            "0.3766768001420808\n",
            "0.4162010727447603\n",
            "0.42357010612744156\n",
            "0.4106201963899443\n",
            "\n",
            "Mean of MSE for K-fold cv in linear regression: 0.40235875335697086\n"
          ],
          "name": "stdout"
        }
      ]
    },
    {
      "cell_type": "markdown",
      "metadata": {
        "id": "t_qGbAjf8_iP"
      },
      "source": [
        "Model performance"
      ]
    },
    {
      "cell_type": "code",
      "metadata": {
        "colab": {
          "base_uri": "https://localhost:8080/",
          "height": 368
        },
        "id": "bFyK5-N589q7",
        "outputId": "b6f5e241-8915-4b18-dd6d-01d7e2a47b32"
      },
      "source": [
        "# histograms of predicted values and actual values: see the distribution\n",
        "bins = np.linspace(0, 12, 40)\n",
        "sns.distplot(y_test, hist = True, bins=bins, color = 'b',\n",
        "             hist_kws={'edgecolor':'black'}, label = 'Actual values')\n",
        "sns.distplot(y_test_pred_lr, hist=True, bins=bins, color = 'r', \n",
        "             hist_kws={'edgecolor':'black'},  label = 'Predicted values')\n",
        "plt.xlim(0, 12)\n",
        "plt.legend(loc='upper right')\n",
        "plt.show()"
      ],
      "execution_count": 83,
      "outputs": [
        {
          "output_type": "stream",
          "text": [
            "/usr/local/lib/python3.7/dist-packages/seaborn/distributions.py:2557: FutureWarning: `distplot` is a deprecated function and will be removed in a future version. Please adapt your code to use either `displot` (a figure-level function with similar flexibility) or `histplot` (an axes-level function for histograms).\n",
            "  warnings.warn(msg, FutureWarning)\n",
            "/usr/local/lib/python3.7/dist-packages/seaborn/distributions.py:2557: FutureWarning: `distplot` is a deprecated function and will be removed in a future version. Please adapt your code to use either `displot` (a figure-level function with similar flexibility) or `histplot` (an axes-level function for histograms).\n",
            "  warnings.warn(msg, FutureWarning)\n"
          ],
          "name": "stderr"
        },
        {
          "output_type": "display_data",
          "data": {
            "image/png": "[encoded data removed]",
            "text/plain": [
              "<Figure size 432x288 with 1 Axes>"
            ]
          },
          "metadata": {
            "tags": [],
            "needs_background": "light"
          }
        }
      ]
    },
    {
      "cell_type": "code",
      "metadata": {
        "id": "XHJfSuIR9CY5"
      },
      "source": [
        "# check the MSE for each feature value\n",
        "\n",
        "# join the predicted values and test data: make the predicted value to a df and re-index it\n",
        "y_test_pred_lr_df = pd.DataFrame(y_test_pred_lr).rename(columns = {0:'pred_duration'})\n",
        "y_test_pred_lr_df = y_test_pred_lr_df.set_index([pd.Index(y_test.index)])\n",
        "test_data_lr = y_test_pred_lr_df.join(test_data)\n",
        "\n",
        "# define a function to compute the MSE for each nominal feature value (after dummy-encoding)\n",
        "def feature_mse(data, feature, featValue):\n",
        "    # filter the data with a specific feature level \n",
        "    # for each feature level, get the predicted values  \n",
        "    pred_for_feature = data.loc[data[feature] == featValue, 'pred_duration'] \n",
        "    # and the actual values\n",
        "    y_test_for_feature = data.loc[data[feature] == featValue, 'trip_duration'] \n",
        "    # compute the MSE\n",
        "    mse_for_feature = mean_squared_error(pred_for_feature, y_test_for_feature)\n",
        "    return mse_for_feature\n",
        "\n",
        "# define a function to use the above function to each nominal feature level\n",
        "def compute_feaMSE(data):\n",
        "  # vendor_id\n",
        "  mse_for_vendor1 = feature_mse(data, 'vendor_1', 1)\n",
        "  mse_for_vendor2 = feature_mse(data, 'vendor_2', 1)\n",
        "  # month\n",
        "  mse_for_month5 = feature_mse(data, 'month_5', 1)\n",
        "  mse_for_month3 = feature_mse(data, 'month_3', 1)\n",
        "  mse_for_month6 = feature_mse(data, 'month_6', 1)\n",
        "  mse_for_month1 = feature_mse(data, 'month_1', 1)\n",
        "  mse_for_month4 = feature_mse(data, 'month_4', 1)\n",
        "  mse_for_month2 = feature_mse(data, 'month_2', 1)\n",
        "  # passenger_count\n",
        "  mse_for_passenger1 = feature_mse(data, 'passenger_1', 1)\n",
        "  mse_for_passenger2 = feature_mse(data, 'passenger_2', 1)\n",
        "  # weekday\n",
        "  mse_for_weekdaySat = feature_mse(data, 'weekday_Saturday', 1)\n",
        "  mse_for_weekdayFri = feature_mse(data, 'weekday_Friday', 1)\n",
        "  mse_for_weekdaySun = feature_mse(data, 'weekday_Sunday', 1)\n",
        "  mse_for_weekdayTues = feature_mse(data, 'weekday_Tuesday', 1)\n",
        "  mse_for_weekdayThurs = feature_mse(data, 'weekday_Thursday', 1)\n",
        "  mse_for_weekdayMon = feature_mse(data, 'weekday_Monday', 1)\n",
        "  mse_for_weekdayWed = feature_mse(data, 'weekday_Wednesday', 1)\n",
        "  # hour\n",
        "  mse_for_hr6 = feature_mse(data, 'hour_6', 1)\n",
        "  mse_for_hr15 = feature_mse(data, 'hour_15', 1)\n",
        "  return mse_for_vendor1, mse_for_vendor2, mse_for_month5, mse_for_month3, mse_for_month6, mse_for_month1, mse_for_month4, mse_for_month2, \\\n",
        "  mse_for_passenger1, mse_for_passenger2, mse_for_weekdaySat, mse_for_weekdayFri, mse_for_weekdaySun, mse_for_weekdayTues, mse_for_weekdayThurs, mse_for_weekdayMon, \\\n",
        "  mse_for_weekdayWed, mse_for_hr6, mse_for_hr15\n",
        "\n",
        "\n",
        "def distanceMSE(data):\n",
        "  # distance is a float value in [0, 1241.30], so divide the values into categories and define a similar function as above to get MSE for each category\n",
        "  # filter the data with a specific feature level: \n",
        "  # [min, Q1]\n",
        "  pred_for_distance1 = test_data_lr.loc[(data['distance'] >= distance.min()) & (data['distance'] < np.quantile(distance, 0.25)), 'pred_duration'] \n",
        "  y_test_for_distance1 = test_data_lr.loc[(data['distance'] >= distance.min()) & (data['distance'] < np.quantile(distance, 0.25)), 'trip_duration'] \n",
        "  mse_for_distance_short = mean_squared_error(pred_for_distance1, y_test_for_distance1)\n",
        "  # [Q1, median]\n",
        "  pred_for_distance2 = test_data_lr.loc[(data['distance'] >= np.quantile(distance, 0.25)) & (data['distance'] < distance.median()), 'pred_duration'] \n",
        "  y_test_for_distance2 = test_data_lr.loc[(data['distance'] >= np.quantile(distance, 0.25)) & (data['distance'] < distance.median()), 'trip_duration'] \n",
        "  mse_for_distance_short2medium = mean_squared_error(pred_for_distance2, y_test_for_distance2)\n",
        "  # [median, Q3]\n",
        "  pred_for_distance3 = test_data_lr.loc[(data['distance'] >= distance.median()) & (data['distance'] < np.quantile(distance, 0.75)), 'pred_duration'] \n",
        "  y_test_for_distance3 = test_data_lr.loc[(data['distance'] >= distance.median()) & (data['distance'] < np.quantile(distance, 0.75)), 'trip_duration'] \n",
        "  mse_for_distance_medium2long = mean_squared_error(pred_for_distance2, y_test_for_distance2)\n",
        "  # [Q3, max]\n",
        "  pred_for_distance4 = test_data_lr.loc[(data['distance'] >= np.quantile(distance, 0.75)) & (data['distance'] <= distance.max()), 'pred_duration'] \n",
        "  y_test_for_distance4 = test_data_lr.loc[(data['distance'] >= np.quantile(distance, 0.75)) & (data['distance'] <= distance.max()), 'trip_duration'] \n",
        "  mse_for_distance_long = mean_squared_error(pred_for_distance4, y_test_for_distance4)\n",
        "\n",
        "  return mse_for_distance_short, mse_for_distance_short2medium, mse_for_distance_medium2long, mse_for_distance_long"
      ],
      "execution_count": 214,
      "outputs": []
    },
    {
      "cell_type": "code",
      "metadata": {
        "colab": {
          "base_uri": "https://localhost:8080/",
          "height": 601
        },
        "id": "JcKt5RaS9KLW",
        "outputId": "b124d793-d562-4644-a5ca-19268d3b6ae7"
      },
      "source": [
        "dist_mse_lr = np.array(distanceMSE(test_data_lr))\n",
        "print('The MSE for distrance:', dist_mse_lr)\n",
        "feature_mse_lr = np.array(compute_feaMSE(test_data_lr))\n",
        "print('The MSE for each nominal feature value:', feature_mse_lr)\n",
        "feat_mse_lr = np.concatenate([dist_mse_lr, feature_mse_lr])\n",
        "\n",
        "# bar chart\n",
        "plt.figure(figsize = (20, 10))\n",
        "y = ['distance_short', 'distance_short2medium', 'distance_medium2long', 'distance_long', 'vendor_1','vendor_2','month_5','month_3','month_6','month_1','month_4','month_2',\n",
        "     'passenger_1','weekday_Saturday','weekday_Friday','weekday_Sunday','weekday_Tuesday','passenger_2',\n",
        "     'weekday_Thursday','weekday_Monday','weekday_Wednesday','hour_6','hour_15']\n",
        "y_pos = range(1, 24)\n",
        "plt.barh(y_pos, feat_mse_lr)\n",
        "plt.ylabel('Features', fontsize = 15)\n",
        "plt.xlabel('MSE', fontsize = 15)\n",
        "plt.title('\\nThe bar chart of MSE for each feature level for Linear Regression', fontsize = 20)\n",
        "plt.yticks(y_pos, y)\n",
        "plt.show()"
      ],
      "execution_count": 215,
      "outputs": [
        {
          "output_type": "stream",
          "text": [
            "The MSE for distrance: [0.29795208 0.22922142 0.22922142 2.32907646]\n",
            "The MSE for each nominal feature value: [0.42675495 0.41016217 0.39705947 0.36906645 0.41352122 0.3759213\n",
            " 0.39356709 0.56127348 0.39637811 0.34733249 0.38035    0.38876382\n",
            " 0.3633149  0.40143069 0.41427688 0.35853354 0.61168137 0.34422954\n",
            " 0.42670654]\n"
          ],
          "name": "stdout"
        },
        {
          "output_type": "display_data",
          "data": {
            "image/png": "[encoded data removed]",
            "text/plain": [
              "<Figure size 1440x720 with 1 Axes>"
            ]
          },
          "metadata": {
            "tags": [],
            "needs_background": "light"
          }
        }
      ]
    },
    {
      "cell_type": "markdown",
      "metadata": {
        "id": "pALudIJZejFs"
      },
      "source": [
        "* XGBoost regression\n",
        "\n",
        "\n"
      ]
    },
    {
      "cell_type": "code",
      "metadata": {
        "colab": {
          "base_uri": "https://localhost:8080/"
        },
        "id": "ZIi4SWsqepRR",
        "outputId": "0af9bf69-5359-4e4a-9b16-b4065d0a514a"
      },
      "source": [
        "# XGB\n",
        "import xgboost as xgb\n",
        "#xgb_reg = xgb.XGBRegressor(booster = 'gbtree', objective ='reg:squarederror', learning_rate = 0.1, max_depth = 5, reg_alpha = 0.1, reg_lambda = 0, n_estimators = 100)\n",
        "xgb_reg = xgb.XGBRegressor(objective ='reg:squarederror', reg_alpha = 0, reg_lambda = 0.5, max_depth = 3, n_estimators = 150, random_state = 666)\n",
        "xgb_reg.fit(X_train_fi,y_train)\n",
        "\n",
        "y_train_pred_xgb = xgb_reg.predict(X_train_fi)\n",
        "y_test_pred_xgb = xgb_reg.predict(X_test_fi)\n",
        "print('MSE: ', mean_squared_error(y_train_pred_xgb, y_train))\n",
        "print('MSE: ', mean_squared_error(y_test_pred_xgb, y_test))"
      ],
      "execution_count": 173,
      "outputs": [
        {
          "output_type": "stream",
          "text": [
            "MSE:  0.2305911121657691\n",
            "MSE:  0.25544292983391875\n"
          ],
          "name": "stdout"
        }
      ]
    },
    {
      "cell_type": "markdown",
      "metadata": {
        "id": "rJbETUsM9fLG"
      },
      "source": [
        "Tune hyperparameters"
      ]
    },
    {
      "cell_type": "code",
      "metadata": {
        "colab": {
          "base_uri": "https://localhost:8080/"
        },
        "id": "gBEwcm8B9UUX",
        "outputId": "8cd8f799-ebf0-4067-941b-88a33d78632d"
      },
      "source": [
        "# tune hyperparameters\n",
        "# define the XGBRegressor\n",
        "xgb_reg_gs = xgb.XGBRegressor(objective = 'reg:squarederror', booster = 'gbtree') \n",
        "# parameter values\n",
        "grid_values = {'learning_rate': [0.1, 0.2, 0.5], 'reg_lambda': [0.2, 0.5], 'max_depth':[3, 5], 'n_estimatros':[100, 150, 200]} \n",
        "               #'colsample_bytree': [0.1, 0.3, 0.5, 0.8, 1], 'colsample_bylevel':} \n",
        "cv = RepeatedKFold(n_splits = 5, n_repeats = 3, random_state = 666) \n",
        "xgb_reg_gs = GridSearchCV(xgb_reg_gs, param_grid = grid_values, cv = cv, scoring = 'neg_mean_squared_error')\n",
        "\n",
        "# fit model \n",
        "xgb_reg_gs.fit(X_train_fi, y_train)\n",
        "\n",
        "# best parameters\n",
        "print('The best parameters:', xgb_reg_gs.best_params_) \n",
        "\n",
        "# predict values based on new parameters\n",
        "y_train_pred_xgb_1 = xgb_reg_gs.predict(X_train_fi)\n",
        "y_pred_xgb_1 = xgb_reg_gs.predict(X_test_fi)\n",
        "print('MSE: ', mean_squared_error(y_train_pred_xgb_1, y_train))\n",
        "print('MSE for the XGBoosting Regressor after tuning hyparameters:', mean_squared_error(y_pred_xgb_1, y_test))"
      ],
      "execution_count": 175,
      "outputs": [
        {
          "output_type": "stream",
          "text": [
            "The best parameters: {'learning_rate': 0.1, 'max_depth': 3, 'n_estimatros': 150, 'reg_lambda': 0.5}\n",
            "MSE for the XGBoosting Regressor after tuning hyparameters: 0.25381272081320577\n"
          ],
          "name": "stdout"
        }
      ]
    },
    {
      "cell_type": "code",
      "metadata": {
        "colab": {
          "base_uri": "https://localhost:8080/",
          "height": 295
        },
        "id": "A8fbhI4K9U-h",
        "outputId": "ee8ea3e0-8a5d-4973-b9be-9ce87793980b"
      },
      "source": [
        "# feature importance\n",
        "xgb_feat_importance = xgb_reg_gs.best_estimator_.feature_importances_\n",
        "#xgb_feat_importance_index = xgb_reg_gs.best_estimator_.feature_importances_.argsort()\n",
        "\n",
        "y = ['distance', 'vendor_1','vendor_2',\n",
        "     'month_5','month_3','month_6','month_1','month_4','month_2',\n",
        "     'passenger_1','weekday_Saturday','weekday_Friday','weekday_Sunday','weekday_Tuesday','passenger_2',\n",
        "     'weekday_Thursday','weekday_Monday','weekday_Wednesday','hour_6','hour_15']\n",
        "y_pos = range(1, 21)\n",
        "#plt.barh(y[xgb_feat_importance_index], xgb_feat_importance[xgb_feat_importance_index])\n",
        "plt.barh(y, xgb_feat_importance)\n",
        "plt.ylabel('Feature importance') \n",
        "plt.xlabel('Features')\n",
        "plt.title('The bar chart of feature importance in XGBoosting Regressor')\n",
        "plt.yticks(y_pos, y)\n",
        "plt.show()"
      ],
      "execution_count": 198,
      "outputs": [
        {
          "output_type": "display_data",
          "data": {
            "image/png": "[encoded data removed]",
            "text/plain": [
              "<Figure size 432x288 with 1 Axes>"
            ]
          },
          "metadata": {
            "tags": [],
            "needs_background": "light"
          }
        }
      ]
    },
    {
      "cell_type": "code",
      "metadata": {
        "colab": {
          "base_uri": "https://localhost:8080/",
          "height": 387
        },
        "id": "7N-FSNlP9YuR",
        "outputId": "d7174e6d-eafd-4007-abac-95de6f4fc764"
      },
      "source": [
        "# histograms of predicted values and actual values: see the distribution\n",
        "bins = np.linspace(0, 12, 40)\n",
        "sns.distplot(y_test, hist = True, bins=bins, color = 'b',\n",
        "             hist_kws={'edgecolor':'black'}, label = 'Actual values')\n",
        "sns.distplot(y_pred_xgb_1, hist=True, bins=bins, color = 'r', \n",
        "             hist_kws={'edgecolor':'black'},  label = 'Predicted values')\n",
        "plt.xlim(0, 12)\n",
        "plt.legend(loc='upper right')"
      ],
      "execution_count": 200,
      "outputs": [
        {
          "output_type": "stream",
          "text": [
            "/usr/local/lib/python3.7/dist-packages/seaborn/distributions.py:2557: FutureWarning: `distplot` is a deprecated function and will be removed in a future version. Please adapt your code to use either `displot` (a figure-level function with similar flexibility) or `histplot` (an axes-level function for histograms).\n",
            "  warnings.warn(msg, FutureWarning)\n",
            "/usr/local/lib/python3.7/dist-packages/seaborn/distributions.py:2557: FutureWarning: `distplot` is a deprecated function and will be removed in a future version. Please adapt your code to use either `displot` (a figure-level function with similar flexibility) or `histplot` (an axes-level function for histograms).\n",
            "  warnings.warn(msg, FutureWarning)\n"
          ],
          "name": "stderr"
        },
        {
          "output_type": "execute_result",
          "data": {
            "text/plain": [
              "<matplotlib.legend.Legend at 0x7fbfa86469d0>"
            ]
          },
          "metadata": {
            "tags": []
          },
          "execution_count": 200
        },
        {
          "output_type": "display_data",
          "data": {
            "image/png": "[encoded data removed]",
            "text/plain": [
              "<Figure size 432x288 with 1 Axes>"
            ]
          },
          "metadata": {
            "tags": [],
            "needs_background": "light"
          }
        }
      ]
    },
    {
      "cell_type": "code",
      "metadata": {
        "colab": {
          "base_uri": "https://localhost:8080/",
          "height": 511
        },
        "id": "5qCfaofI9bSo",
        "outputId": "9191792b-3dad-42bd-e45c-56fb5877c61b"
      },
      "source": [
        "# check the MSE for each feature value\n",
        "\n",
        "# join the predicted values and test data: make the predicted value to a df and re-index it\n",
        "y_test_pred_xgb_df = pd.DataFrame(y_pred_xgb_1).rename(columns = {0:'pred_duration'})\n",
        "y_test_pred_xgb_df = y_test_pred_xgb_df.set_index([pd.Index(y_test.index)])\n",
        "test_data_xgb = y_test_pred_xgb_df.join(test_data)\n",
        "\n",
        "# use the above defined function to compute the MSE for each feature value\n",
        "dist_mse_xgb = np.array(distanceMSE(test_data_xgb))\n",
        "print('The MSE for distrance:', dist_mse_xgb)\n",
        "feature_mse_xgb = np.array(compute_feaMSE(test_data_xgb))\n",
        "print('The MSE for each nominal feature value:', feature_mse_xgb)\n",
        "feat_mse_xgb = np.concatenate([dist_mse_xgb, feature_mse_xgb])\n",
        "\n",
        "# bar chart\n",
        "plt.figure(figsize = (25, 10))\n",
        "y = ['distance_short', 'distance_short2medium', 'distance_medium2long', 'distance_long','vendor_1','vendor_2','month_5','month_3','month_6','month_1','month_4','month_2',\n",
        "     'passenger_1','weekday_Saturday','weekday_Friday','weekday_Sunday','weekday_Tuesday','passenger_2',\n",
        "     'weekday_Thursday','weekday_Monday','weekday_Wednesday','hour_6','hour_15']\n",
        "y_pos = range(1, 24)\n",
        "plt.barh(y_pos, feat_mse_xgb)\n",
        "plt.ylabel('Features', fontsize = 15)\n",
        "plt.xlabel('MSE', fontsize = 15)\n",
        "plt.title('\\nThe bar chart of MSE for each feature level for XGBoosting Regressor', fontsize = 20)\n",
        "plt.yticks(y_pos, y)\n",
        "plt.show()"
      ],
      "execution_count": 218,
      "outputs": [
        {
          "output_type": "stream",
          "text": [
            "The MSE for distrance: [0.29795208 0.22922142 0.22922142 2.32907646]\n",
            "The MSE for each nominal feature value: [0.21745158 0.28583577 0.25613018 0.23836897 0.27934032 0.24941979\n",
            " 0.2560532  0.24428968 0.25564112 0.22870588 0.25091479 0.26045087\n",
            " 0.22830386 0.26185725 0.27149205 0.22590176 0.27189534 0.19579625\n",
            " 0.26668539]\n"
          ],
          "name": "stdout"
        },
        {
          "output_type": "display_data",
          "data": {
            "image/png": "[encoded data removed]",
            "text/plain": [
              "<Figure size 1800x720 with 1 Axes>"
            ]
          },
          "metadata": {
            "tags": [],
            "needs_background": "light"
          }
        }
      ]
    }
  ]
}